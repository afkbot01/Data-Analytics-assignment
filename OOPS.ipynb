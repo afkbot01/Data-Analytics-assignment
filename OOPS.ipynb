{
 "cells": [
  {
   "cell_type": "markdown",
   "id": "973e06b6-006f-4c3e-b2ae-3d61b8a57fa9",
   "metadata": {
    "jp-MarkdownHeadingCollapsed": true
   },
   "source": [
    "# Theory Questions."
   ]
  },
  {
   "cell_type": "markdown",
   "id": "7af8587c-e4f7-45a4-afd7-3b4ca2668f8a",
   "metadata": {},
   "source": [
    "### 1. What is Object-Oriented Programming (OOP)"
   ]
  },
  {
   "cell_type": "markdown",
   "id": "c1acf5dc-5efd-411a-bc37-cbd787e792b0",
   "metadata": {},
   "source": [
    "Object-Oriented Programming (OOP) is a programming paradigm based on the concept of \"objects\", which can contain data (called attributes or properties) and code (called methods or functions) that operate on the data.\n",
    "\n"
   ]
  },
  {
   "cell_type": "code",
   "execution_count": 4,
   "id": "47255979-c8d7-4e95-8fc9-b98cfb0ee56d",
   "metadata": {},
   "outputs": [
    {
     "name": "stdout",
     "output_type": "stream",
     "text": [
      "Buddy barks\n"
     ]
    }
   ],
   "source": [
    "class Animal:  # Class\n",
    "    def __init__(self, name):  # Constructor\n",
    "        self.name = name       # Attribute\n",
    "\n",
    "    def speak(self):           # Method\n",
    "        return f\"{self.name} makes a sound\"\n",
    "\n",
    "class Dog(Animal):             # Inheritance\n",
    "    def speak(self):           # Polymorphism (method overriding)\n",
    "        return f\"{self.name} barks\"\n",
    "\n",
    "dog = Dog(\"Buddy\")             # Object\n",
    "print(dog.speak())             # Output: Buddy barks\n"
   ]
  },
  {
   "cell_type": "markdown",
   "id": "79dbebb0-fc27-43e6-a0d2-4a8791d7fd4a",
   "metadata": {},
   "source": [
    "### 2.What is a class in OOP"
   ]
  },
  {
   "cell_type": "markdown",
   "id": "17d73ebf-9545-45aa-b603-ebda8f1f7f84",
   "metadata": {},
   "source": [
    "In Object-Oriented Programming (OOP), a class is a blueprint or template for creating objects (instances). It defines the properties (attributes) and behaviors (methods) that the objects created from the class will have.\n",
    "\n",
    "Key Points:\n",
    "Attributes (or Properties): These are the data or variables associated with a class. They define the state or characteristics of an object. For example, in a Car class, attributes could be color, model, and engine_type.\n",
    "\n",
    "Methods (or Behaviors): These are functions that define the actions or behaviors that an object of the class can perform. For example, in a Car class, methods could include start(), stop(), or accelerate().\n",
    "\n",
    "Encapsulation: A class encapsulates data and behavior into a single unit. This allows for better organization, protection of data (through access control), and reusability.\n",
    "\n",
    "Instance: An instance is an individual object created from a class. Each instance has its own set of attribute values."
   ]
  },
  {
   "cell_type": "code",
   "execution_count": 94,
   "id": "1f46d621-893d-42e0-af56-9e365a6396a7",
   "metadata": {},
   "outputs": [
    {
     "name": "stdout",
     "output_type": "stream",
     "text": [
      "Buddy says Woof!\n"
     ]
    }
   ],
   "source": [
    "class Dog:\n",
    "    # Constructor to initialize the attributes\n",
    "    def __init__(self, name, age):\n",
    "        self.name = name  # Attribute\n",
    "        self.age = age    # Attribute\n",
    "\n",
    "    # Method to define behavior\n",
    "    def speak(self):\n",
    "        return f\"{self.name} says Woof!\"\n",
    "\n",
    "# Creating an instance (object) of the class\n",
    "dog1 = Dog(\"Buddy\", 3)\n",
    "print(dog1.speak())  # Calling the method\n"
   ]
  },
  {
   "cell_type": "markdown",
   "id": "f511b466-4bf6-47e5-b919-51a95337c451",
   "metadata": {
    "jp-MarkdownHeadingCollapsed": true
   },
   "source": [
    "### 3. What is an object in OOP"
   ]
  },
  {
   "cell_type": "markdown",
   "id": "2cad904f-d093-4d76-a0b5-164cd4dcb531",
   "metadata": {},
   "source": [
    "In Object-Oriented Programming (OOP), an object is an instance of a class. It is a self-contained unit that holds both data (attributes) and behavior (methods) defined by the class from which it is instantiated.\n",
    "\n",
    "Key Points about Objects:\n",
    "Instance of a Class: An object is created based on the blueprint provided by a class. When a class is defined, no memory is allocated for it, but when an object is created, memory is allocated for that specific object.\n",
    "\n",
    "Attributes: These are the data or properties associated with an object. Each object can have its own set of values for these attributes. For example, a Car object might have attributes like color, make, model, and year.\n",
    "\n",
    "Methods: These are the actions or behaviors that an object can perform. Objects can call methods defined in their class to perform tasks or interact with other objects.\n",
    "\n",
    "State: An object represents a specific state in terms of its attributes. This state can change over time as methods are called to modify the object's data."
   ]
  },
  {
   "cell_type": "code",
   "execution_count": 98,
   "id": "b131981d-86df-43ce-938a-8415b5cddb5f",
   "metadata": {},
   "outputs": [
    {
     "name": "stdout",
     "output_type": "stream",
     "text": [
      "Toyota\n",
      "Corolla\n",
      "2020 Toyota Corolla is starting.\n"
     ]
    }
   ],
   "source": [
    "class Car:\n",
    "    def __init__(self, make, model, year):\n",
    "        self.make = make\n",
    "        self.model = model\n",
    "        self.year = year\n",
    "\n",
    "    def start(self):\n",
    "        return f\"{self.year} {self.make} {self.model} is starting.\"\n",
    "\n",
    "# Creating an object (instance) of the Car class\n",
    "my_car = Car(\"Toyota\", \"Corolla\", 2020)\n",
    "\n",
    "# Accessing object's attributes\n",
    "print(my_car.make)  # Output: Toyota\n",
    "print(my_car.model)  # Output: Corolla\n",
    "\n",
    "# Calling an object's method\n",
    "print(my_car.start())  # Output: 2020 Toyota Corolla is starting.\n"
   ]
  },
  {
   "cell_type": "markdown",
   "id": "4258aa8d-9286-4f1f-972d-e640acee56e2",
   "metadata": {
    "jp-MarkdownHeadingCollapsed": true
   },
   "source": [
    "### 4. What is the difference between abstraction and encapsulation"
   ]
  },
  {
   "cell_type": "markdown",
   "id": "70dc6445-e637-4d95-8433-92bba814c7df",
   "metadata": {},
   "source": [
    "Abstraction and encapsulation are both fundamental concepts in Object-Oriented Programming (OOP), but they serve different purposes and are used in different ways.\n",
    "\n",
    "1. Abstraction:\n",
    "   \n",
    "Abstraction is the concept of hiding the complex implementation details of an object and exposing only the essential features to the user. The goal of abstraction is to simplify interaction with an object by only revealing relevant information and hiding unnecessary details.\n",
    "\n",
    "Purpose: To provide a simplified interface while hiding the complexity.\n",
    "\n",
    "How it works: Abstraction allows you to focus on what an object does rather than how it does it.\n",
    "\n",
    "Implementation: In OOP, abstraction is usually achieved through abstract classes and interfaces. Abstract methods are declared in the class, and subclasses provide the specific implementation."
   ]
  },
  {
   "cell_type": "code",
   "execution_count": 103,
   "id": "a986fdab-2700-4d9a-a01e-cde5d36beb0b",
   "metadata": {},
   "outputs": [
    {
     "name": "stdout",
     "output_type": "stream",
     "text": [
      "Area: 78.5\n",
      "Area: 50\n"
     ]
    }
   ],
   "source": [
    "from abc import ABC, abstractmethod\n",
    "\n",
    "class Shape(ABC):\n",
    "    @abstractmethod\n",
    "    def area(self):\n",
    "        pass\n",
    "\n",
    "class Circle(Shape):\n",
    "    def __init__(self, radius):\n",
    "        self.radius = radius\n",
    "\n",
    "    def area(self):\n",
    "        return 3.14 * self.radius * self.radius\n",
    "\n",
    "class Rectangle(Shape):\n",
    "    def __init__(self, length, width):\n",
    "        self.length = length\n",
    "        self.width = width\n",
    "\n",
    "    def area(self):\n",
    "        return self.length * self.width\n",
    "\n",
    "# Now, you can use the common 'Shape' abstraction without worrying about the specifics of Circle or Rectangle.\n",
    "shapes = [Circle(5), Rectangle(10, 5)]\n",
    "for shape in shapes:\n",
    "    print(f\"Area: {shape.area()}\")\n"
   ]
  },
  {
   "cell_type": "markdown",
   "id": "ad7f4fa9-ca19-4622-a360-cab5bfe0e25a",
   "metadata": {},
   "source": [
    "2. Encapsulation:\n",
    "   \n",
    "Encapsulation is the concept of bundling the data (attributes) and the methods (functions) that operate on the data into a single unit, usually a class. Encapsulation also involves restricting direct access to some of an object's components, typically by using access modifiers like private, protected, and public.\n",
    "\n",
    "Purpose: To protect the object's internal state by controlling access to it and to ensure that the object is used in a controlled way.\n",
    "\n",
    "How it works: Encapsulation hides the internal state of the object and only allows modification through public methods, which helps to enforce rules and consistency.\n",
    "\n",
    "Implementation: Encapsulation is typically implemented through private and public attributes and methods. You can define \"getter\" and \"setter\" methods to control access to private attributes."
   ]
  },
  {
   "cell_type": "code",
   "execution_count": 106,
   "id": "b184e757-82bd-426a-bd37-99e0ee917812",
   "metadata": {},
   "outputs": [
    {
     "name": "stdout",
     "output_type": "stream",
     "text": [
      "1300\n"
     ]
    }
   ],
   "source": [
    "class BankAccount:\n",
    "    def __init__(self, balance=0):\n",
    "        self.__balance = balance  # Private attribute\n",
    "\n",
    "    def deposit(self, amount):\n",
    "        if amount > 0:\n",
    "            self.__balance += amount\n",
    "        else:\n",
    "            print(\"Deposit amount must be positive.\")\n",
    "\n",
    "    def withdraw(self, amount):\n",
    "        if 0 < amount <= self.__balance:\n",
    "            self.__balance -= amount\n",
    "        else:\n",
    "            print(\"Invalid withdrawal amount.\")\n",
    "\n",
    "    def get_balance(self):\n",
    "        return self.__balance\n",
    "\n",
    "# Creating an object of BankAccount\n",
    "account = BankAccount(1000)\n",
    "account.deposit(500)\n",
    "account.withdraw(200)\n",
    "\n",
    "print(account.get_balance())  # Accessing the balance through the public method\n"
   ]
  },
  {
   "cell_type": "markdown",
   "id": "455e422c-f548-4eb8-bef3-895079891c4f",
   "metadata": {},
   "source": [
    "### 5.What are dunder methods in Python"
   ]
  },
  {
   "cell_type": "markdown",
   "id": "6090e147-0a79-4b21-bf3f-3c9a4ad0978d",
   "metadata": {},
   "source": [
    "Dunder methods (also known as magic methods or special methods) in Python are methods that have double underscores (__) at the beginning and end of their names. These methods allow you to define and customize the behavior of objects in your classes, and they are called automatically by Python in specific situations.\n",
    "\n",
    "Dunder methods are special methods in Python that allow you to customize object behavior. They are automatically called in specific situations and are essential for building robust, user-friendly object-oriented code. Examples include __init__ (constructor), __str__ (string representation), __add__ (addition), and __eq__ (equality)."
   ]
  },
  {
   "cell_type": "markdown",
   "id": "3cdad8bb-ed4f-46ab-bb22-d19a56c6ee59",
   "metadata": {},
   "source": [
    "### 5. Explain the concept of inheritance in OOP"
   ]
  },
  {
   "cell_type": "markdown",
   "id": "b70fb3e1-5946-4585-be55-da53313fb7a9",
   "metadata": {},
   "source": [
    "Inheritance is one of the four fundamental principles of Object-Oriented Programming (OOP), the others being Encapsulation, Abstraction, and Polymorphism. Inheritance allows a class (called the child class or subclass) to inherit properties and behaviors (attributes and methods) from another class (called the parent class or superclass)."
   ]
  },
  {
   "cell_type": "markdown",
   "id": "38c41a93-1d1c-4eee-86a6-761612137e30",
   "metadata": {},
   "source": [
    "How Inheritance Works:\n",
    "The child class inherits all non-private attributes and methods from the parent class.\n",
    "\n",
    "The child class can call methods from the parent class and override them to provide specific behavior.\n",
    "\n",
    "If the child class has its own unique attributes or methods, they will not affect the parent class."
   ]
  },
  {
   "cell_type": "code",
   "execution_count": 115,
   "id": "71e43a7b-a801-4aa9-8305-cdbd40256a07",
   "metadata": {},
   "outputs": [
    {
     "name": "stdout",
     "output_type": "stream",
     "text": [
      "Animal sound\n",
      "Woof\n"
     ]
    }
   ],
   "source": [
    "# Parent class (superclass)\n",
    "class Animal:\n",
    "    def __init__(self, name):\n",
    "        self.name = name\n",
    "    \n",
    "    def speak(self):\n",
    "        return \"Animal sound\"\n",
    "\n",
    "# Child class (subclass) inheriting from Animal\n",
    "class Dog(Animal):\n",
    "    def __init__(self, name, breed):\n",
    "        super().__init__(name)  # Calling the parent class constructor\n",
    "        self.breed = breed\n",
    "    \n",
    "    # Overriding the speak method of the parent class\n",
    "    def speak(self):\n",
    "        return \"Woof\"\n",
    "\n",
    "# Creating instances of the classes\n",
    "animal = Animal(\"Generic Animal\")\n",
    "dog = Dog(\"Buddy\", \"Golden Retriever\")\n",
    "\n",
    "print(animal.speak())  # Output: Animal sound\n",
    "print(dog.speak())     # Output: Woof\n"
   ]
  },
  {
   "cell_type": "markdown",
   "id": "063810d8-200c-42de-8d6e-bef994694118",
   "metadata": {},
   "source": [
    "### 7. What is Polymorphism in OOP"
   ]
  },
  {
   "cell_type": "markdown",
   "id": "173844cb-c943-4db3-ace4-5176588a4f21",
   "metadata": {},
   "source": [
    "Polymorphism is one of the key principles of Object-Oriented Programming (OOP). The word \"polymorphism\" comes from Greek, meaning \"many forms.\" In OOP, polymorphism allows objects of different classes to be treated as objects of a common superclass. The most important aspect of polymorphism is that it enables one interface to be used for a general class of actions, making your code more flexible and extensible.\n",
    "\n",
    "Key Concepts of Polymorphism:\n",
    "\n",
    "Method Overriding: When a subclass provides a specific implementation of a method that is already defined in its parent class. This allows the subclass to define its own version of a method, even if the parent class has a different implementation.\n",
    "\n",
    "Method Overloading: \n",
    "\n",
    "Although Python doesn't directly support method overloading (as in some other languages like Java or C++), polymorphism can still be achieved by defining methods with the same name but handling different numbers or types of arguments."
   ]
  },
  {
   "cell_type": "markdown",
   "id": "c0a5f36b-3ef7-4f33-9d08-5166851005e3",
   "metadata": {},
   "source": [
    "### 8.How is encapsulation achieved in Python"
   ]
  },
  {
   "cell_type": "markdown",
   "id": "0c14eb58-4dd3-4d25-93b5-ff4bcf102161",
   "metadata": {},
   "source": [
    "Encapsulation in Python is the process of hiding the internal state and functionality of an object and only exposing a controlled interface. This helps protect the object’s data from being modified directly and ensures that it can only be changed through well-defined methods."
   ]
  },
  {
   "cell_type": "markdown",
   "id": "e8968d50-6783-473e-8731-5c97c84c1a46",
   "metadata": {},
   "source": [
    "Encapsulation in Python relies on conventions and name mangling to restrict access and enforce security, promoting clean, modular, and maintainable code."
   ]
  },
  {
   "cell_type": "markdown",
   "id": "fe39665b-2c3b-45be-9416-c723d92c058d",
   "metadata": {},
   "source": [
    "Key Goals of Encapsulation:\n",
    "Data Hiding – Prevent direct access to object attributes.\n",
    "\n",
    "Controlled Access – Provide public methods to access and update private data safely.\n",
    "\n",
    "Security and Integrity – Prevent unintended modifications and ensure data integrity.\n",
    "\n"
   ]
  },
  {
   "cell_type": "markdown",
   "id": "d4a874b6-585e-48ef-98b7-2847e4722b1b",
   "metadata": {},
   "source": [
    "### 9. What is a constructor in Python"
   ]
  },
  {
   "cell_type": "markdown",
   "id": "da383b73-34a8-4fcc-aa40-138e08bddbe6",
   "metadata": {},
   "source": [
    "A constructor in Python is a special method used to initialize a newly created object of a class. It is automatically called when a new object (instance) of the class is created.\n",
    "\n",
    "In Python, the constructor method is always named __init__().\n",
    "\n"
   ]
  },
  {
   "cell_type": "markdown",
   "id": "2babc9b8-2040-48d7-a84c-a907831dbaf1",
   "metadata": {},
   "source": [
    "Purpose of a Constructor:\n",
    "Set up the initial state of the object.\n",
    "\n",
    "Assign values to the object’s attributes.\n",
    "\n",
    "Perform any setup steps needed when the object is created."
   ]
  },
  {
   "cell_type": "code",
   "execution_count": 127,
   "id": "b2acb5d9-c7f1-4ea3-bcc5-ec3580ec23a9",
   "metadata": {},
   "outputs": [],
   "source": [
    "class ClassName:\n",
    "    def __init__(self, parameter1, parameter2):\n",
    "        self.attribute1 = parameter1\n",
    "        self.attribute2 = parameter2\n"
   ]
  },
  {
   "cell_type": "markdown",
   "id": "a4c2cbda-585e-43cc-93fb-6c0df0734ba0",
   "metadata": {},
   "source": [
    "### 10. What are class and static methods in Python"
   ]
  },
  {
   "cell_type": "markdown",
   "id": "1a25effa-a073-4ff5-9b8e-e86354753b04",
   "metadata": {},
   "source": [
    "In Python, class methods and static methods are special types of methods that serve different purposes than regular instance methods. They are defined using decorators: @classmethod and @staticmethod.\n",
    "\n",
    "1. Class Method (@classmethod)\n",
    "   \n",
    "A class method is bound to the class, not the instance of the class. It can access and modify class-level data (shared by all instances) using the cls parameter."
   ]
  },
  {
   "cell_type": "code",
   "execution_count": 131,
   "id": "e2662643-5d81-40d7-8d5a-b53341bdb433",
   "metadata": {},
   "outputs": [],
   "source": [
    "class MyClass:\n",
    "    class_variable = 0\n",
    "\n",
    "    @classmethod\n",
    "    def show_class_variable(cls):\n",
    "        return cls.class_variable\n"
   ]
  },
  {
   "cell_type": "markdown",
   "id": "5316d9d8-f4b7-494e-8674-0317a24c4d49",
   "metadata": {},
   "source": [
    "2.Static Method (@staticmethod)\n",
    "\n",
    "A static method is independent of both the class and its instances. It doesn’t take self or cls as its first argument. It’s used when you want to define a utility function that is related to the class but doesn’t need to access class or instance data."
   ]
  },
  {
   "cell_type": "code",
   "execution_count": 137,
   "id": "8c405231-0f05-4e24-bf5e-996497054a40",
   "metadata": {},
   "outputs": [],
   "source": [
    "class MyClass:\n",
    "    @staticmethod\n",
    "    def helper_method(x, y):\n",
    "        return x + y\n"
   ]
  },
  {
   "cell_type": "markdown",
   "id": "bbc53de5-6c7e-4f09-b3b0-167aa7ba6d25",
   "metadata": {},
   "source": [
    "### 11. What is method overloading in Python"
   ]
  },
  {
   "cell_type": "markdown",
   "id": "bf4d768e-2cc8-4c4b-91d9-559b5be5f2ca",
   "metadata": {},
   "source": [
    "Method overloading refers to the ability to define multiple methods with the same name but different parameters (type, number, or order of arguments). In many languages like Java or C++, method overloading is supported natively. However, Python does not support true method overloading in the traditional sense.\n",
    "\n",
    "Instead, Python achieves similar behavior using default arguments, *args, or @singledispatch from the functools module."
   ]
  },
  {
   "cell_type": "markdown",
   "id": "0d5643b7-2b66-4052-8849-6347f2c0ff88",
   "metadata": {},
   "source": [
    "Why Python Doesn't Support Traditional Overloading:\n",
    "In Python, if you define multiple methods with the same name, only the last one is kept — the previous ones get overridden."
   ]
  },
  {
   "cell_type": "code",
   "execution_count": 142,
   "id": "a9aff0b7-acb0-4bd1-9fcf-17c96673dda3",
   "metadata": {},
   "outputs": [
    {
     "ename": "TypeError",
     "evalue": "Demo.show() missing 1 required positional argument: 'b'",
     "output_type": "error",
     "traceback": [
      "\u001b[1;31m---------------------------------------------------------------------------\u001b[0m",
      "\u001b[1;31mTypeError\u001b[0m                                 Traceback (most recent call last)",
      "Cell \u001b[1;32mIn[142], line 9\u001b[0m\n\u001b[0;32m      6\u001b[0m         \u001b[38;5;28mprint\u001b[39m(\u001b[38;5;124m\"\u001b[39m\u001b[38;5;124mTwo arguments:\u001b[39m\u001b[38;5;124m\"\u001b[39m, a, b)\n\u001b[0;32m      8\u001b[0m d \u001b[38;5;241m=\u001b[39m Demo()\n\u001b[1;32m----> 9\u001b[0m d\u001b[38;5;241m.\u001b[39mshow(\u001b[38;5;241m5\u001b[39m)\n",
      "\u001b[1;31mTypeError\u001b[0m: Demo.show() missing 1 required positional argument: 'b'"
     ]
    }
   ],
   "source": [
    "class Demo:\n",
    "    def show(self, a):\n",
    "        print(\"One argument:\", a)\n",
    "\n",
    "    def show(self, a, b):\n",
    "        print(\"Two arguments:\", a, b)\n",
    "\n",
    "d = Demo()\n",
    "d.show(5)  # ❌ Error: missing 1 required positional argument: 'b'\n"
   ]
  },
  {
   "cell_type": "markdown",
   "id": "f627e71b-de99-48c5-92c2-20f6edf9d1e7",
   "metadata": {},
   "source": [
    "### 12. What is method overriding in OOP"
   ]
  },
  {
   "cell_type": "markdown",
   "id": "f9e877f5-5496-4abd-b2d9-dddb4676306d",
   "metadata": {},
   "source": [
    "Method overriding in Object-Oriented Programming (OOP) is a feature that allows a subclass (child class) to provide a specific implementation of a method that is already defined in its superclass (parent class).\n",
    "\n",
    "Key Points:\n",
    "The method in the child class has the same name, parameters, and return type as in the parent class.\n",
    "\n",
    "Used to change or extend the behavior of the inherited method.\n",
    "\n",
    "Happens at runtime (dynamic polymorphism).\n",
    "\n",
    "\n"
   ]
  },
  {
   "cell_type": "code",
   "execution_count": 146,
   "id": "e6dfa629-c54b-4413-81fd-60f271c81c10",
   "metadata": {},
   "outputs": [
    {
     "name": "stdout",
     "output_type": "stream",
     "text": [
      "This animal makes a sound\n",
      "The dog barks\n"
     ]
    }
   ],
   "source": [
    "class Animal:\n",
    "    def sound(self):\n",
    "        print(\"This animal makes a sound\")\n",
    "\n",
    "class Dog(Animal):\n",
    "    def sound(self):  # Overriding the parent's sound method\n",
    "        print(\"The dog barks\")\n",
    "\n",
    "# Testing\n",
    "a = Animal()\n",
    "a.sound()   # Output: This animal makes a sound\n",
    "\n",
    "d = Dog()\n",
    "d.sound()   # Output: The dog barks\n"
   ]
  },
  {
   "cell_type": "markdown",
   "id": "37d49e00-32cb-4c48-ac60-c0b18ba056bc",
   "metadata": {},
   "source": [
    "### 13.What is a property decorator in Python"
   ]
  },
  {
   "cell_type": "markdown",
   "id": "81c24526-e352-42f0-811f-eee8af0781fa",
   "metadata": {},
   "source": [
    "The @property decorator in Python is used to turn a method into a \"read-only\" attribute. It allows you to access methods like attributes—without using parentheses—while still allowing you to encapsulate logic behind the scenes."
   ]
  },
  {
   "cell_type": "markdown",
   "id": "09e7b079-5d82-43da-a1f5-4a2a751c5bc0",
   "metadata": {},
   "source": [
    "Why Use @property?\n",
    "To control access to instance variables.\n",
    "\n",
    "To make your class interface cleaner and safer.\n",
    "\n",
    "To implement getter, setter, and deleter methods in a Pythonic way."
   ]
  },
  {
   "cell_type": "code",
   "execution_count": 153,
   "id": "37c71236-609d-4852-81cd-488a0be74b49",
   "metadata": {},
   "outputs": [
    {
     "name": "stdout",
     "output_type": "stream",
     "text": [
      "78.5\n"
     ]
    }
   ],
   "source": [
    "class Circle:\n",
    "    def __init__(self, radius):\n",
    "        self._radius = radius  # Protected attribute\n",
    "\n",
    "    @property\n",
    "    def area(self):  # No () needed when calling\n",
    "        return 3.14 * self._radius ** 2\n",
    "\n",
    "c = Circle(5)\n",
    "print(c.area)  # ✅ Output: 78.5\n"
   ]
  },
  {
   "cell_type": "markdown",
   "id": "db46ba00-9dca-44d2-9319-33c1e566a73c",
   "metadata": {},
   "source": [
    "### 14. Why is polymorphism important in OOP"
   ]
  },
  {
   "cell_type": "markdown",
   "id": "0d09fbee-14a3-44a9-a895-dc81ad172240",
   "metadata": {},
   "source": [
    "Polymorphism is important in Object-Oriented Programming (OOP) because it allows objects of different classes to be treated as objects of a common base class, enabling code flexibility, reusability, and scalability.\n",
    "\n"
   ]
  },
  {
   "cell_type": "markdown",
   "id": "0131354d-405a-4845-b18e-eeca74454a33",
   "metadata": {},
   "source": [
    "### 15.  What is an abstract class in Python"
   ]
  },
  {
   "cell_type": "markdown",
   "id": "c2a55002-e475-415f-8593-9951e4e4ffcf",
   "metadata": {},
   "source": [
    "An abstract class in Python is a class that cannot be instantiated directly and is meant to be inherited by other classes. It often contains one or more abstract methods, which are methods declared but not implemented in the abstract class. Subclasses must override these abstract methods to be functional.\n",
    "\n",
    "Python uses the abc module (Abstract Base Classes) to define abstract classes.\n",
    "\n",
    "Why Use Abstract Classes?\n",
    "To define a common interface for all subclasses.\n",
    "\n",
    "To enforce method implementation in subclasses.\n",
    "\n",
    "To provide shared behavior and partial implementations."
   ]
  },
  {
   "cell_type": "code",
   "execution_count": 159,
   "id": "cf2e540f-fbc7-47ed-be90-9f3dfecd0de8",
   "metadata": {},
   "outputs": [],
   "source": [
    "from abc import ABC, abstractmethod\n",
    "\n",
    "class Animal(ABC):  # Inherit from ABC to make it abstract\n",
    "    @abstractmethod\n",
    "    def sound(self):  # Abstract method\n",
    "        pass\n"
   ]
  },
  {
   "cell_type": "code",
   "execution_count": 161,
   "id": "3f63e543-d20b-4e72-b8af-93aab2ba35a7",
   "metadata": {},
   "outputs": [
    {
     "name": "stdout",
     "output_type": "stream",
     "text": [
      "Bark\n"
     ]
    }
   ],
   "source": [
    "from abc import ABC, abstractmethod\n",
    "\n",
    "class Animal(ABC):\n",
    "    @abstractmethod\n",
    "    def sound(self):\n",
    "        pass\n",
    "\n",
    "class Dog(Animal):\n",
    "    def sound(self):\n",
    "        print(\"Bark\")\n",
    "\n",
    "class Cat(Animal):\n",
    "    def sound(self):\n",
    "        print(\"Meow\")\n",
    "\n",
    "# a = Animal()  ❌ Error: Can't instantiate abstract class\n",
    "d = Dog()\n",
    "d.sound()  # Output: Bark\n"
   ]
  },
  {
   "cell_type": "markdown",
   "id": "45fc236e-73e3-4400-8b24-8759961b2a96",
   "metadata": {},
   "source": [
    "ules for Abstract Classes:\n",
    "You can't create objects of an abstract class.\n",
    "\n",
    "Any subclass that does not implement all abstract methods also becomes abstract.\n",
    "\n",
    "Abstract classes can have both abstract and concrete methods (with code)."
   ]
  },
  {
   "cell_type": "markdown",
   "id": "d08e4d8e-1091-40aa-ab1c-7edcd36c208b",
   "metadata": {},
   "source": [
    "### 16. What are the advantages of OOP"
   ]
  },
  {
   "cell_type": "markdown",
   "id": "cd3e97d6-46ef-44ab-af07-d919d5261cda",
   "metadata": {},
   "source": [
    "Object-Oriented Programming (OOP) offers several key advantages that make it a powerful and widely used programming paradigm:\n",
    "\n",
    "Code is organized into independent classes, making it easier to manage.\n",
    "\n",
    "Each class handles a specific functionality or \"concept\".\n",
    "\n",
    "Classes can be reused across multiple projects or programs.\n",
    "\n",
    "Inheritance lets you build new classes on top of existing ones.\n",
    "\n",
    "OOP makes large codebases easier to scale and maintain.\n",
    "\n",
    "Changes in one class typically don’t affect others if well designed.\n",
    "\n",
    "Data is hidden inside classes and accessed through methods.\n",
    "\n",
    "Prevents unwanted interference and makes code safer.\n",
    "\n",
    "Focus on what an object does instead of how it does it.\n",
    "\n",
    "Hide internal logic and expose only the necessary interface.\n",
    "\n",
    "Same interface, different behaviors.\n",
    "\n",
    "Enables flexible code that works with objects of different types."
   ]
  },
  {
   "cell_type": "markdown",
   "id": "ad727ce9-d370-479e-ae28-767d3cf91b07",
   "metadata": {},
   "source": [
    "### 17. What is the difference between a class variable and an instance variable"
   ]
  },
  {
   "cell_type": "markdown",
   "id": "936549c1-3924-47e0-b267-e44350ed415b",
   "metadata": {},
   "source": [
    "The difference between a class variable and an instance variable lies in where they are stored and how they are shared across instances."
   ]
  },
  {
   "cell_type": "markdown",
   "id": "8c08b6a9-311d-41fb-a03c-1aa03ddf923d",
   "metadata": {},
   "source": [
    " 1. Instance Variable\n",
    "Defined inside methods using self, usually in __init__.\n",
    "\n",
    "Unique to each object (instance).\n",
    "\n",
    "Changing one instance’s variable does not affect others."
   ]
  },
  {
   "cell_type": "code",
   "execution_count": 170,
   "id": "e40269da-a70c-450d-af22-6011159c8ce9",
   "metadata": {},
   "outputs": [
    {
     "name": "stdout",
     "output_type": "stream",
     "text": [
      "Red\n",
      "Blue\n"
     ]
    }
   ],
   "source": [
    "class Car:\n",
    "    def __init__(self, color):\n",
    "        self.color = color  # Instance variable\n",
    "\n",
    "c1 = Car(\"Red\")\n",
    "c2 = Car(\"Blue\")\n",
    "print(c1.color)  # Red\n",
    "print(c2.color)  # Blue\n"
   ]
  },
  {
   "cell_type": "markdown",
   "id": "35dfa131-6412-4a87-8589-e75609c354f9",
   "metadata": {},
   "source": [
    " 2. Class Variable\n",
    "Defined directly inside the class, outside of methods.\n",
    "\n",
    "Shared across all instances of the class.\n",
    "\n",
    "Changing the class variable affects all instances (unless overridden in one instance)."
   ]
  },
  {
   "cell_type": "code",
   "execution_count": 173,
   "id": "d8915a09-9e11-48ff-83d6-121b61a7bce5",
   "metadata": {},
   "outputs": [
    {
     "name": "stdout",
     "output_type": "stream",
     "text": [
      "4\n",
      "4\n",
      "6\n",
      "6\n"
     ]
    }
   ],
   "source": [
    "class Car:\n",
    "    wheels = 4  # Class variable\n",
    "\n",
    "c1 = Car()\n",
    "c2 = Car()\n",
    "print(c1.wheels)  # 4\n",
    "print(c2.wheels)  # 4\n",
    "\n",
    "Car.wheels = 6  # Change class variable\n",
    "print(c1.wheels)  # 6\n",
    "print(c2.wheels)  # 6\n"
   ]
  },
  {
   "cell_type": "markdown",
   "id": "fb3e836b-b22f-4880-8a6c-84696eb88b82",
   "metadata": {},
   "source": [
    "### 18. What is multiple inheritance in Python"
   ]
  },
  {
   "cell_type": "markdown",
   "id": "44bed3d6-e27f-42a7-b49d-839a0ac928f4",
   "metadata": {},
   "source": [
    "Multiple inheritance in Python refers to a feature where a class can inherit from more than one parent class. This allows the child class to inherit attributes and methods from multiple parent classes, enabling greater code reuse and more flexible design."
   ]
  },
  {
   "cell_type": "markdown",
   "id": "d4744072-92f0-46ad-b615-9e8d2d92d5ed",
   "metadata": {},
   "source": [
    "Key Points:\n",
    "The child class inherits methods and attributes from all its parent classes.\n",
    "\n",
    "Python uses the method resolution order (MRO) to decide the order in which the base classes are searched when calling a method.\n",
    "\n",
    "Multiple inheritance allows a class to combine the functionality of multiple base classes."
   ]
  },
  {
   "cell_type": "markdown",
   "id": "de01fd08-2462-4589-ba8c-a0bb381492a0",
   "metadata": {},
   "source": [
    " Syntax for Multiple Inheritance"
   ]
  },
  {
   "cell_type": "code",
   "execution_count": 179,
   "id": "8d1a2e1b-5aa4-4b0b-9476-874390b61287",
   "metadata": {},
   "outputs": [
    {
     "name": "stdout",
     "output_type": "stream",
     "text": [
      "Method from Parent1\n",
      "Method from Parent2\n",
      "Method from Child\n"
     ]
    }
   ],
   "source": [
    "class Parent1:\n",
    "    def method1(self):\n",
    "        print(\"Method from Parent1\")\n",
    "\n",
    "class Parent2:\n",
    "    def method2(self):\n",
    "        print(\"Method from Parent2\")\n",
    "\n",
    "class Child(Parent1, Parent2):  # Multiple inheritance\n",
    "    def method3(self):\n",
    "        print(\"Method from Child\")\n",
    "\n",
    "c = Child()\n",
    "c.method1()  # Inherited from Parent1\n",
    "c.method2()  # Inherited from Parent2\n",
    "c.method3()  # Defined in Child\n"
   ]
  },
  {
   "cell_type": "markdown",
   "id": "88812d2a-4e89-4919-84ef-5f6f991ef368",
   "metadata": {},
   "source": [
    "### 19.  Explain the purpose of ‘’__str__’ and ‘__repr__’ ‘ methods in Python"
   ]
  },
  {
   "cell_type": "markdown",
   "id": "5fb408b8-4946-41f3-9660-a4e4b31be16a",
   "metadata": {},
   "source": [
    "In Python, the __str__ and __repr__ methods are special (dunder) methods used to define how objects of a class are represented as strings. They help control what you see when you print an object or inspect it in the console.\n",
    "\n"
   ]
  },
  {
   "cell_type": "code",
   "execution_count": 183,
   "id": "88369e34-ad59-415e-866d-9fe2b7273798",
   "metadata": {},
   "outputs": [
    {
     "name": "stdout",
     "output_type": "stream",
     "text": [
      "Person: Alice\n"
     ]
    }
   ],
   "source": [
    "class Person:\n",
    "    def __init__(self, name):\n",
    "        self.name = name\n",
    "\n",
    "    def __str__(self):\n",
    "        return f\"Person: {self.name}\"\n",
    "\n",
    "p = Person(\"Alice\")\n",
    "print(p)  # Output: Person: Alice\n"
   ]
  },
  {
   "cell_type": "markdown",
   "id": "d8eb75a0-3bf5-471c-884e-fd68acfc1f8b",
   "metadata": {},
   "source": [
    "### 20.What is the significance of the ‘super()’ function in Python"
   ]
  },
  {
   "cell_type": "markdown",
   "id": "00deaa5c-e215-46a7-a3bb-2748375fd297",
   "metadata": {},
   "source": [
    "The super() function in Python is used to call methods from a parent or superclass in a derived (child) class. It's especially useful when dealing with inheritance, and it helps in maintaining clean, reusable, and extensible code.\n",
    "\n"
   ]
  },
  {
   "cell_type": "markdown",
   "id": "972683da-ad9b-4705-9e1e-6627030d50e0",
   "metadata": {},
   "source": [
    "Key Purposes of super()\n",
    "Access the parent class’s methods or constructors\n",
    "\n",
    "Avoid explicitly naming the base class\n",
    "\n",
    "Support multiple inheritance through Method Resolution Order (MRO)"
   ]
  },
  {
   "cell_type": "markdown",
   "id": "442be440-0347-45dd-9f6f-c2c7e8a48e22",
   "metadata": {},
   "source": [
    "### 21.  What is the significance of the __del__ method in Python"
   ]
  },
  {
   "cell_type": "markdown",
   "id": "1031e1b2-342b-44b9-b603-14a1c1608bb5",
   "metadata": {},
   "source": [
    "The __del__ method in Python is a special (dunder) method known as the destructor. It is called automatically when an object is about to be destroyed — that is, when it is garbage collected (usually when there are no more references to it).\n",
    "\n",
    "\n",
    "Purpose of __del__\n",
    "\n",
    "To define cleanup actions before an object is deleted, such as:\n",
    "\n",
    "Closing files or network connections\n",
    "\n",
    "Releasing resources (e.g., memory, sockets)\n",
    "\n",
    "Logging or debugging when objects are destroyed\n"
   ]
  },
  {
   "cell_type": "code",
   "execution_count": 190,
   "id": "4b3e5055-07e3-4d45-95ca-1309b8ec2be6",
   "metadata": {},
   "outputs": [
    {
     "name": "stdout",
     "output_type": "stream",
     "text": [
      "File opened\n",
      "File closed\n"
     ]
    }
   ],
   "source": [
    "class FileHandler:\n",
    "    def __init__(self, filename):\n",
    "        self.file = open(filename, 'w')\n",
    "        print(\"File opened\")\n",
    "\n",
    "    def __del__(self):\n",
    "        self.file.close()\n",
    "        print(\"File closed\")\n",
    "\n",
    "f = FileHandler(\"example.txt\")\n",
    "del f  # Manually deletes the object and triggers __del__()\n"
   ]
  },
  {
   "cell_type": "markdown",
   "id": "5f3f4fc1-5859-4896-b5ce-dec2c1cdc885",
   "metadata": {},
   "source": [
    "### 22.What is the difference between @staticmethod and @classmethod in Python"
   ]
  },
  {
   "cell_type": "markdown",
   "id": "35bca01b-c163-41b5-aeae-2566198d75ff",
   "metadata": {},
   "source": [
    "@staticmethod\n",
    "\n",
    "Does not take self or cls as a parameter\n",
    "\n",
    "Acts like a regular function, just placed inside a class for logical grouping\n",
    "\n",
    "Cannot access or modify class or instance state"
   ]
  },
  {
   "cell_type": "code",
   "execution_count": 196,
   "id": "f85b6fa3-b081-4179-add3-c82f1c05612a",
   "metadata": {},
   "outputs": [
    {
     "name": "stdout",
     "output_type": "stream",
     "text": [
      "8\n"
     ]
    }
   ],
   "source": [
    "class MathUtils:\n",
    "    @staticmethod\n",
    "    def add(x, y):\n",
    "        return x + y\n",
    "\n",
    "print(MathUtils.add(5, 3))  # Output: 8\n"
   ]
  },
  {
   "cell_type": "markdown",
   "id": "eae7a515-1c12-4250-99a7-b1d39d1e39fd",
   "metadata": {},
   "source": [
    "@classmethod\n",
    "\n",
    "Takes cls as the first parameter\n",
    "\n",
    "Can access and modify class-level attributes\n",
    "\n",
    "Often used for factory methods (methods that return class instances)"
   ]
  },
  {
   "cell_type": "code",
   "execution_count": 199,
   "id": "10c2476b-6953-47f5-a9d1-695ee4ca2adb",
   "metadata": {},
   "outputs": [
    {
     "name": "stdout",
     "output_type": "stream",
     "text": [
      "0\n",
      "1\n"
     ]
    }
   ],
   "source": [
    "class Book:\n",
    "    book_count = 0\n",
    "\n",
    "    def __init__(self, title):\n",
    "        self.title = title\n",
    "        Book.book_count += 1\n",
    "\n",
    "    @classmethod\n",
    "    def get_book_count(cls):\n",
    "        return cls.book_count\n",
    "\n",
    "print(Book.get_book_count())  # Output: 0\n",
    "b1 = Book(\"Python 101\")\n",
    "print(Book.get_book_count())  # Output: 1\n"
   ]
  },
  {
   "cell_type": "markdown",
   "id": "41b687b3-0a29-41c3-b729-0a8e4ff9a542",
   "metadata": {},
   "source": [
    "### 23.  How does polymorphism work in Python with inheritance"
   ]
  },
  {
   "cell_type": "markdown",
   "id": "262cb1bd-cce7-44b7-9da0-32386af2bb66",
   "metadata": {},
   "source": [
    "Polymorphism in Python allows objects of different classes to be treated using the same interface — typically through inheritance. This means you can call the same method name on different objects, and they will behave differently depending on their class."
   ]
  },
  {
   "cell_type": "markdown",
   "id": "d00929fb-9375-4bc6-a7f6-bceb22d482e6",
   "metadata": {},
   "source": [
    "How it works with Inheritance\n",
    "A base class defines a method.\n",
    "\n",
    "Derived (child) classes override that method with their own implementations.\n",
    "\n",
    "You can treat all these objects uniformly — call the same method regardless of the actual class.\n",
    "\n"
   ]
  },
  {
   "cell_type": "code",
   "execution_count": 204,
   "id": "6d2a113c-d2b3-4870-b2be-5bc0a3eeba0d",
   "metadata": {},
   "outputs": [
    {
     "name": "stdout",
     "output_type": "stream",
     "text": [
      "Bark\n",
      "Meow\n"
     ]
    }
   ],
   "source": [
    "class Animal:\n",
    "    def speak(self):\n",
    "        return \"Some sound\"\n",
    "\n",
    "class Dog(Animal):\n",
    "    def speak(self):\n",
    "        return \"Bark\"\n",
    "\n",
    "class Cat(Animal):\n",
    "    def speak(self):\n",
    "        return \"Meow\"\n",
    "\n",
    "# Using polymorphism\n",
    "animals = [Dog(), Cat()]\n",
    "\n",
    "for animal in animals:\n",
    "    print(animal.speak())\n"
   ]
  },
  {
   "cell_type": "markdown",
   "id": "d5e2af08-55cd-49f0-9056-b876435db7af",
   "metadata": {},
   "source": [
    "### 24. What is method chaining in Python OOP\n"
   ]
  },
  {
   "cell_type": "markdown",
   "id": "ac27a0a0-7b87-417d-9792-cb2ff387898f",
   "metadata": {},
   "source": [
    "Method chaining in Python OOP refers to the practice of calling multiple methods on the same object in a single line, one after the other. This is possible when each method returns the object itself (self).\n",
    "\n"
   ]
  },
  {
   "cell_type": "markdown",
   "id": "3d69e165-8ffc-411a-85e2-def797924551",
   "metadata": {},
   "source": [
    "Purpose of Method Chaining:\n",
    "Makes code more concise and fluent\n",
    "\n",
    "Improves readability when setting multiple attributes or performing sequential operations\n",
    "\n"
   ]
  },
  {
   "cell_type": "code",
   "execution_count": 209,
   "id": "28934dbf-b408-4861-8598-5bccee5c4354",
   "metadata": {},
   "outputs": [
    {
     "name": "stdout",
     "output_type": "stream",
     "text": [
      "Name: Alice, Age: 30\n"
     ]
    },
    {
     "data": {
      "text/plain": [
       "<__main__.Person at 0x2b27a76cb30>"
      ]
     },
     "execution_count": 209,
     "metadata": {},
     "output_type": "execute_result"
    }
   ],
   "source": [
    "class Person:\n",
    "    def __init__(self, name=\"\"):\n",
    "        self.name = name\n",
    "        self.age = 0\n",
    "\n",
    "    def set_name(self, name):\n",
    "        self.name = name\n",
    "        return self  # Returning self enables chaining\n",
    "\n",
    "    def set_age(self, age):\n",
    "        self.age = age\n",
    "        return self\n",
    "\n",
    "    def display(self):\n",
    "        print(f\"Name: {self.name}, Age: {self.age}\")\n",
    "        return self\n",
    "\n",
    "# Method chaining in action\n",
    "p = Person()\n",
    "p.set_name(\"Alice\").set_age(30).display()\n"
   ]
  },
  {
   "cell_type": "markdown",
   "id": "4ba6f3a7-7870-4080-bd41-209e3173e44f",
   "metadata": {},
   "source": [
    "### 25. What is the purpose of the __call__ method in Python"
   ]
  },
  {
   "cell_type": "markdown",
   "id": "f1b1e1d9-8b7b-45c3-a05c-c6388a9b4f1f",
   "metadata": {},
   "source": [
    "The __call__ method in Python allows an instance of a class to be called like a function. When you define __call__ in a class, you can use the object followed by parentheses — just like calling a regular function.\n",
    "\n"
   ]
  },
  {
   "cell_type": "markdown",
   "id": "c7862109-69fd-4fd2-b6a9-ceebee62ff98",
   "metadata": {},
   "source": [
    "Purpose of __call__:\n",
    "Makes objects callable\n",
    "\n",
    "Useful for creating function-like objects with state\n",
    "\n",
    "Common in decorators, machine learning models, and command-style patterns"
   ]
  },
  {
   "cell_type": "code",
   "execution_count": 216,
   "id": "cb5c1168-32f0-425b-9529-5938d4b5bc73",
   "metadata": {},
   "outputs": [
    {
     "name": "stdout",
     "output_type": "stream",
     "text": [
      "Hello, Alice!\n"
     ]
    }
   ],
   "source": [
    "class Greeter:\n",
    "    def __init__(self, name):\n",
    "        self.name = name\n",
    "\n",
    "    def __call__(self):\n",
    "        print(f\"Hello, {self.name}!\")\n",
    "\n",
    "g = Greeter(\"Alice\")\n",
    "g()  # Output: Hello, Alice!\n"
   ]
  },
  {
   "cell_type": "code",
   "execution_count": null,
   "id": "3f82db41-1081-4586-b21b-b1e760ccfc63",
   "metadata": {},
   "outputs": [],
   "source": []
  },
  {
   "cell_type": "markdown",
   "id": "87da0fee-cfc9-4c7b-a05c-f548adc89e95",
   "metadata": {
    "jp-MarkdownHeadingCollapsed": true
   },
   "source": [
    "# Practicle Questions"
   ]
  },
  {
   "cell_type": "markdown",
   "id": "b0615b46-87ee-416a-924f-ac77305ea192",
   "metadata": {},
   "source": [
    "### 1.  Create a parent class Animal with a method speak() that prints a generic message. Create a child class Dog that overrides the speak() method to print \"Bark!\""
   ]
  },
  {
   "cell_type": "code",
   "execution_count": 4,
   "id": "6b3a8ed7-77b8-4d55-bc0c-a6f9edadb206",
   "metadata": {},
   "outputs": [
    {
     "name": "stdout",
     "output_type": "stream",
     "text": [
      "Bark!\n"
     ]
    }
   ],
   "source": [
    "class Animal:\n",
    "    def speak(self):\n",
    "        print(\"This is the animal class\")\n",
    "class Dog(Animal):\n",
    "    def speak(self):\n",
    "        print(\"Bark!\")\n",
    "\n",
    "a = Dog()\n",
    "a.speak()\n"
   ]
  },
  {
   "cell_type": "markdown",
   "id": "09d81a16-5730-4ca0-ab8d-53ee4d143d8b",
   "metadata": {},
   "source": [
    "### 2. Write a program to create an abstract class Shape with a method area(). Derive classes Circle and Rectangle from it and implement the area() method in both"
   ]
  },
  {
   "cell_type": "code",
   "execution_count": 23,
   "id": "788190fa-36f4-4df3-813f-64b1fbb73a95",
   "metadata": {},
   "outputs": [],
   "source": [
    "from abc import ABC,abstractmethod\n",
    "\n",
    "class Shape:\n",
    "    @abstractmethod\n",
    "    def area(self):\n",
    "        pass\n",
    "class Circle(Shape):\n",
    "    def area(self):\n",
    "        print(\"Calculate Raduis of the circle\")\n",
    "class Rectangle(Shape):\n",
    "    def area(self):\n",
    "        print(\"Calculate Lenght * Breadth\")\n",
    "\n"
   ]
  },
  {
   "cell_type": "markdown",
   "id": "d5d262af-fe39-46df-a8a5-50d88a63a03d",
   "metadata": {},
   "source": [
    "### 3. Implement a multi-level inheritance scenario where a class Vehicle has an attribute type. Derive a class Car and further derive a class ElectricCar that adds a battery attribute"
   ]
  },
  {
   "cell_type": "code",
   "execution_count": 19,
   "id": "b726fcd3-2022-4cad-bb2e-2e8aa95fc243",
   "metadata": {},
   "outputs": [
    {
     "name": "stdout",
     "output_type": "stream",
     "text": [
      "Car Name tesla\n"
     ]
    }
   ],
   "source": [
    "class Vehicle:\n",
    "    def __init__(self, type):\n",
    "        self.type = type\n",
    "    def info(self):\n",
    "        print(f\"Vehicle Info {self.type}\")\n",
    "\n",
    "class Car(Vehicle):\n",
    "    def __init__(self,name):\n",
    "        self.name = name\n",
    "    def info(self):\n",
    "        print(f\"Car Name {self.name}\")\n",
    "\n",
    "class ElectricCar(Vehicle): \n",
    "    def __init__(self,battery):\n",
    "        self.bat = battery\n",
    "\n",
    "    def info(self):\n",
    "        print(f\"Battery Power {self.bat}\")\n",
    "\n",
    "car = Car('tesla')\n",
    "car.info()\n"
   ]
  },
  {
   "cell_type": "markdown",
   "id": "98266a39-c09a-4f4e-8cee-e0edaa98708e",
   "metadata": {},
   "source": [
    "### 4. Demonstrate polymorphism by creating a base class Bird with a method fly(). Create two derived classes Sparrow and Penguin that override the fly() method. "
   ]
  },
  {
   "cell_type": "code",
   "execution_count": 30,
   "id": "92edfdfa-5101-4339-9ec6-fc0f69ff6ecc",
   "metadata": {},
   "outputs": [
    {
     "name": "stdout",
     "output_type": "stream",
     "text": [
      "Sparrows Can Fly.\n",
      "Penguins Can not fly.\n"
     ]
    }
   ],
   "source": [
    "class Bird:\n",
    "    def fly(self):\n",
    "        print(\"Birds can Fly.\")\n",
    "\n",
    "class Sparrow(Bird):\n",
    "    def fly(self):\n",
    "        print(\"Sparrows Can Fly.\")\n",
    "\n",
    "class Penguin(Bird):\n",
    "    def fly(self):\n",
    "        print(\"Penguins Can not fly.\")\n",
    "\n",
    "sparrow = Sparrow()\n",
    "penguin = Penguin()\n",
    "\n",
    "sparrow.fly()\n",
    "penguin.fly()"
   ]
  },
  {
   "cell_type": "markdown",
   "id": "9936f9f7-ec2d-46da-acf5-923afcf8f79e",
   "metadata": {},
   "source": [
    "### 5. Write a program to demonstrate encapsulation by creating a class BankAccount with private attributes balance and methods to deposit, withdraw, and check balance"
   ]
  },
  {
   "cell_type": "code",
   "execution_count": 19,
   "id": "a673da91-c4a1-4b65-bf28-dc4d401c7252",
   "metadata": {},
   "outputs": [
    {
     "name": "stdout",
     "output_type": "stream",
     "text": [
      "5000\n",
      "Successfully deposited\n",
      "5400\n"
     ]
    }
   ],
   "source": [
    "class BankAccount:\n",
    "    def __init__(self,balance):\n",
    "        self.__balance = balance\n",
    "    def deposit(self,d):\n",
    "        self.__balance = d + self.__balance\n",
    "        print(\"Successfully deposited\")\n",
    "    def withdraw(self,w):\n",
    "        self.__balance = self.__balance - w\n",
    "        print(\"Successfully Withdrawn\")\n",
    "    def checkBal(self):\n",
    "        print(f\"{self.__balance}\")\n",
    "\n",
    "acc = BankAccount(5000)\n",
    "acc.checkBal()\n",
    "acc.deposit(400)\n",
    "acc.checkBal()"
   ]
  },
  {
   "cell_type": "markdown",
   "id": "47796f16-9c36-41d4-a615-5f702cfb7906",
   "metadata": {},
   "source": [
    "### 6. Demonstrate runtime polymorphism using a method play() in a base class Instrument. Derive classes Guitar and Piano that implement their own version of play()."
   ]
  },
  {
   "cell_type": "code",
   "execution_count": 33,
   "id": "efb9d063-9061-4d26-b787-4d8d523faa59",
   "metadata": {},
   "outputs": [
    {
     "name": "stdout",
     "output_type": "stream",
     "text": [
      "Playing Piano\n"
     ]
    }
   ],
   "source": [
    "class Instrument:\n",
    "    def play(self):\n",
    "        print(\"Playing an Instrument\")\n",
    "\n",
    "class Guitar(Instrument):\n",
    "    def play(self):\n",
    "        print(\"Playing Guitar\")\n",
    "\n",
    "class Piano(Instrument):\n",
    "    def play(self):\n",
    "        print(\"Playing Piano\")\n",
    "\n",
    "def perform_play(instrument: Instrument):\n",
    "    instrument.play()\n",
    "\n",
    "guitar = Guitar()\n",
    "piano = Piano()\n",
    "perform_play(piano)"
   ]
  },
  {
   "cell_type": "markdown",
   "id": "4da23766-a142-4d14-b5f1-17e98a0aed5a",
   "metadata": {},
   "source": [
    "### 7.Create a class MathOperations with a class method add_numbers() to add two numbers and a static method subtract_numbers() to subtract two numbers."
   ]
  },
  {
   "cell_type": "code",
   "execution_count": 52,
   "id": "d62071bc-1b6b-4b3f-b64a-12e26b96e9c6",
   "metadata": {},
   "outputs": [
    {
     "name": "stdout",
     "output_type": "stream",
     "text": [
      "Subtraction : 77\n"
     ]
    }
   ],
   "source": [
    "class MathOperations:\n",
    "    def add_numbers(self,x,y):\n",
    "        print(f\"Addition : {x + y}\")\n",
    "\n",
    "    \n",
    "    @staticmethod\n",
    "    def subtract_numbers(x,y):\n",
    "        print(f\"Subtraction : {x - y}\")\n",
    "\n",
    "op = MathOperations()\n",
    "op.subtract_numbers(80,3)\n",
    "        "
   ]
  },
  {
   "cell_type": "markdown",
   "id": "ed301995-bc2d-4c9a-9896-85ec380ac017",
   "metadata": {},
   "source": [
    "### 8. Implement a class Person with a class method to count the total number of persons created"
   ]
  },
  {
   "cell_type": "code",
   "execution_count": 55,
   "id": "b0282f3c-faa6-470d-b1b1-4ddcab36d8d6",
   "metadata": {},
   "outputs": [
    {
     "name": "stdout",
     "output_type": "stream",
     "text": [
      "Total persons created: 3\n"
     ]
    }
   ],
   "source": [
    "class Person:\n",
    "    count = 0  # Class variable to keep track of number of persons\n",
    "\n",
    "    def __init__(self, name):\n",
    "        self.name = name\n",
    "        Person.count += 1\n",
    "\n",
    "    @classmethod\n",
    "    def total_persons(cls):\n",
    "        return cls.count\n",
    "\n",
    "# Example usage\n",
    "p1 = Person(\"Alice\")\n",
    "p2 = Person(\"Bob\")\n",
    "p3 = Person(\"Charlie\")\n",
    "\n",
    "print(\"Total persons created:\", Person.total_persons())  # Output: 3\n"
   ]
  },
  {
   "cell_type": "markdown",
   "id": "36311d62-151d-4bd3-8349-269f979aa790",
   "metadata": {},
   "source": [
    "### 9. Write a class Fraction with attributes numerator and denominator. Override the str method to display the fraction as \"numerator/denominator\"."
   ]
  },
  {
   "cell_type": "code",
   "execution_count": 58,
   "id": "61681e8a-0276-45cf-8fd7-2b95459c2a71",
   "metadata": {},
   "outputs": [
    {
     "name": "stdout",
     "output_type": "stream",
     "text": [
      "3/4\n"
     ]
    }
   ],
   "source": [
    "class Fraction:\n",
    "    def __init__(self, numerator, denominator):\n",
    "        self.numerator = numerator\n",
    "        self.denominator = denominator\n",
    "\n",
    "    def __str__(self):\n",
    "        return f\"{self.numerator}/{self.denominator}\"\n",
    "\n",
    "# Example usage\n",
    "f1 = Fraction(3, 4)\n",
    "print(f1)  # Output: 3/4\n"
   ]
  },
  {
   "cell_type": "markdown",
   "id": "9e607c70-50a9-4c30-b8ad-31ea80d6b128",
   "metadata": {},
   "source": [
    "### 10. Demonstrate operator overloading by creating a class Vector and overriding the add method to add two vectors."
   ]
  },
  {
   "cell_type": "code",
   "execution_count": 61,
   "id": "71388e0d-9d53-42b4-986c-8e5db0da1c59",
   "metadata": {},
   "outputs": [
    {
     "name": "stdout",
     "output_type": "stream",
     "text": [
      "Vector(6, 8)\n"
     ]
    }
   ],
   "source": [
    "class Vector:\n",
    "    def __init__(self, x, y):\n",
    "        self.x = x\n",
    "        self.y = y\n",
    "\n",
    "    def __add__(self, other):\n",
    "        return Vector(self.x + other.x, self.y + other.y)\n",
    "\n",
    "    def __str__(self):\n",
    "        return f\"Vector({self.x}, {self.y})\"\n",
    "\n",
    "# Example usage\n",
    "v1 = Vector(2, 3)\n",
    "v2 = Vector(4, 5)\n",
    "v3 = v1 + v2\n",
    "\n",
    "print(v3)  # Output: Vector(6, 8)\n"
   ]
  },
  {
   "cell_type": "markdown",
   "id": "70ea5bd1-6c66-450e-b323-83454ec5bd62",
   "metadata": {},
   "source": [
    "### 11. Create a class Person with attributes name and age. Add a method greet() that prints \"Hello, my name is {name} and I am {age} years old."
   ]
  },
  {
   "cell_type": "code",
   "execution_count": 64,
   "id": "a3c4168d-fb6c-40f0-bdd0-46724ba816b1",
   "metadata": {},
   "outputs": [
    {
     "name": "stdout",
     "output_type": "stream",
     "text": [
      "Hello, my name is Alice and I am 30 years old.\n"
     ]
    }
   ],
   "source": [
    "class Person:\n",
    "    def __init__(self, name, age):\n",
    "        self.name = name\n",
    "        self.age = age\n",
    "\n",
    "    def greet(self):\n",
    "        print(f\"Hello, my name is {self.name} and I am {self.age} years old.\")\n",
    "\n",
    "# Example usage\n",
    "p1 = Person(\"Alice\", 30)\n",
    "p1.greet()  # Output: Hello, my name is Alice and I am 30 years old.\n"
   ]
  },
  {
   "cell_type": "markdown",
   "id": "71954438-62ef-41e5-9dca-706087484311",
   "metadata": {},
   "source": [
    "### 12. Implement a class Student with attributes name and grades. Create a method average_grade() to compute the average of the grades."
   ]
  },
  {
   "cell_type": "code",
   "execution_count": 67,
   "id": "2cc796f9-0bf1-4a76-a637-250dfbb84d4e",
   "metadata": {},
   "outputs": [
    {
     "name": "stdout",
     "output_type": "stream",
     "text": [
      "John's average grade is: 86.25\n"
     ]
    }
   ],
   "source": [
    "class Student:\n",
    "    def __init__(self, name, grades):\n",
    "        self.name = name\n",
    "        self.grades = grades  # List of numeric grades\n",
    "\n",
    "    def average_grade(self):\n",
    "        if not self.grades:\n",
    "            return 0\n",
    "        return sum(self.grades) / len(self.grades)\n",
    "\n",
    "# Example usage\n",
    "s1 = Student(\"John\", [85, 90, 78, 92])\n",
    "print(f\"{s1.name}'s average grade is: {s1.average_grade():.2f}\")\n"
   ]
  },
  {
   "cell_type": "markdown",
   "id": "c700a2b1-0a78-48b4-92f8-c6c7ca304ba0",
   "metadata": {},
   "source": [
    "### 13. Create a class Rectangle with methods set_dimensions() to set the dimensions and area() to calculate the area"
   ]
  },
  {
   "cell_type": "code",
   "execution_count": 70,
   "id": "5a0974bf-081b-40ad-acdf-ceaf2d1c2060",
   "metadata": {},
   "outputs": [
    {
     "name": "stdout",
     "output_type": "stream",
     "text": [
      "Area of the rectangle: 15\n"
     ]
    }
   ],
   "source": [
    "class Rectangle:\n",
    "    def __init__(self):\n",
    "        self.length = 0\n",
    "        self.width = 0\n",
    "\n",
    "    def set_dimensions(self, length, width):\n",
    "        self.length = length\n",
    "        self.width = width\n",
    "\n",
    "    def area(self):\n",
    "        return self.length * self.width\n",
    "\n",
    "# Example usage\n",
    "rect = Rectangle()\n",
    "rect.set_dimensions(5, 3)\n",
    "print(\"Area of the rectangle:\", rect.area())  # Output: 15\n"
   ]
  },
  {
   "cell_type": "markdown",
   "id": "df14d8dd-3116-46f9-834f-6c77dd262d9b",
   "metadata": {},
   "source": [
    "### 14. Create a class Employee with a method calculate_salary() that computes the salary based on hours worked and hourly rate. Create a derived class Manager that adds a bonus to the salary"
   ]
  },
  {
   "cell_type": "code",
   "execution_count": 73,
   "id": "afaae13a-3aca-44c4-a827-3865f8ecde20",
   "metadata": {},
   "outputs": [
    {
     "name": "stdout",
     "output_type": "stream",
     "text": [
      "Alice's salary: $800\n",
      "Bob's salary (with bonus): $1850\n"
     ]
    }
   ],
   "source": [
    "class Employee:\n",
    "    def __init__(self, name, hours_worked, hourly_rate):\n",
    "        self.name = name\n",
    "        self.hours_worked = hours_worked\n",
    "        self.hourly_rate = hourly_rate\n",
    "\n",
    "    def calculate_salary(self):\n",
    "        return self.hours_worked * self.hourly_rate\n",
    "\n",
    "class Manager(Employee):\n",
    "    def __init__(self, name, hours_worked, hourly_rate, bonus):\n",
    "        super().__init__(name, hours_worked, hourly_rate)\n",
    "        self.bonus = bonus\n",
    "\n",
    "    def calculate_salary(self):\n",
    "        base_salary = super().calculate_salary()\n",
    "        return base_salary + self.bonus\n",
    "\n",
    "# Example usage\n",
    "emp = Employee(\"Alice\", 40, 20)\n",
    "mgr = Manager(\"Bob\", 45, 30, 500)\n",
    "\n",
    "print(f\"{emp.name}'s salary: ${emp.calculate_salary()}\")\n",
    "print(f\"{mgr.name}'s salary (with bonus): ${mgr.calculate_salary()}\")\n"
   ]
  },
  {
   "cell_type": "markdown",
   "id": "2325aa80-de2e-4f9e-8104-645e4e130951",
   "metadata": {},
   "source": [
    "### 15. Create a class Product with attributes name, price, and quantity. Implement a method total_price() that calculates the total price of the product"
   ]
  },
  {
   "cell_type": "code",
   "execution_count": 76,
   "id": "93f5bba0-c049-46d5-bb7b-3d7fb3d6bb5f",
   "metadata": {},
   "outputs": [
    {
     "name": "stdout",
     "output_type": "stream",
     "text": [
      "Total price for Laptop: $3000\n"
     ]
    }
   ],
   "source": [
    "class Product:\n",
    "    def __init__(self, name, price, quantity):\n",
    "        self.name = name\n",
    "        self.price = price\n",
    "        self.quantity = quantity\n",
    "\n",
    "    def total_price(self):\n",
    "        return self.price * self.quantity\n",
    "\n",
    "# Example usage\n",
    "product = Product(\"Laptop\", 1000, 3)\n",
    "print(f\"Total price for {product.name}: ${product.total_price()}\")\n"
   ]
  },
  {
   "cell_type": "markdown",
   "id": "1072140e-326f-41cd-a34f-4d317a3b5ec7",
   "metadata": {},
   "source": [
    "### 16. Create a class Animal with an abstract method sound(). Create two derived classes Cow and Sheep that implement the sound() method"
   ]
  },
  {
   "cell_type": "code",
   "execution_count": 78,
   "id": "6445effb-bb15-42f9-96dd-7060408c7dfb",
   "metadata": {},
   "outputs": [
    {
     "name": "stdout",
     "output_type": "stream",
     "text": [
      "Cow sound: Moo\n",
      "Sheep sound: Baa\n"
     ]
    }
   ],
   "source": [
    "from abc import ABC, abstractmethod\n",
    "\n",
    "class Animal(ABC):\n",
    "    @abstractmethod\n",
    "    def sound(self):\n",
    "        pass\n",
    "\n",
    "class Cow(Animal):\n",
    "    def sound(self):\n",
    "        return \"Moo\"\n",
    "\n",
    "class Sheep(Animal):\n",
    "    def sound(self):\n",
    "        return \"Baa\"\n",
    "\n",
    "# Example usage\n",
    "cow = Cow()\n",
    "sheep = Sheep()\n",
    "\n",
    "print(f\"Cow sound: {cow.sound()}\")\n",
    "print(f\"Sheep sound: {sheep.sound()}\")\n"
   ]
  },
  {
   "cell_type": "markdown",
   "id": "69c9adb2-85de-41e7-aed4-a5de71369a90",
   "metadata": {},
   "source": [
    "### 17.Create a class Book with attributes title, author, and year_published. Add a method get_book_info() that returns a formatted string with the book's details"
   ]
  },
  {
   "cell_type": "code",
   "execution_count": 80,
   "id": "fb351883-aa6b-4496-a958-49bfe20eb12e",
   "metadata": {},
   "outputs": [
    {
     "name": "stdout",
     "output_type": "stream",
     "text": [
      "Title: 1984\n",
      "Author: George Orwell\n",
      "Year Published: 1949\n"
     ]
    }
   ],
   "source": [
    "class Book:\n",
    "    def __init__(self, title, author, year_published):\n",
    "        self.title = title\n",
    "        self.author = author\n",
    "        self.year_published = year_published\n",
    "\n",
    "    def get_book_info(self):\n",
    "        return f\"Title: {self.title}\\nAuthor: {self.author}\\nYear Published: {self.year_published}\"\n",
    "\n",
    "# Example usage\n",
    "book = Book(\"1984\", \"George Orwell\", 1949)\n",
    "print(book.get_book_info())\n"
   ]
  },
  {
   "cell_type": "markdown",
   "id": "c3de57da-a957-4a6d-9528-7c7231538d8f",
   "metadata": {},
   "source": [
    "### 18. Create a class House with attributes address and price. Create a derived class Mansion that adds an attribute number_of_rooms"
   ]
  },
  {
   "cell_type": "code",
   "execution_count": 82,
   "id": "6fb232ef-f9bb-4311-a7c6-05057646997a",
   "metadata": {},
   "outputs": [
    {
     "name": "stdout",
     "output_type": "stream",
     "text": [
      "Address: 123 Luxury Lane\n",
      "Price: $5000000\n",
      "Number of Rooms: 10\n"
     ]
    }
   ],
   "source": [
    "class House:\n",
    "    def __init__(self, address, price):\n",
    "        self.address = address\n",
    "        self.price = price\n",
    "\n",
    "    def get_house_info(self):\n",
    "        return f\"Address: {self.address}\\nPrice: ${self.price}\"\n",
    "\n",
    "class Mansion(House):\n",
    "    def __init__(self, address, price, number_of_rooms):\n",
    "        super().__init__(address, price)\n",
    "        self.number_of_rooms = number_of_rooms\n",
    "\n",
    "    def get_mansion_info(self):\n",
    "        house_info = self.get_house_info()\n",
    "        return f\"{house_info}\\nNumber of Rooms: {self.number_of_rooms}\"\n",
    "\n",
    "# Example usage\n",
    "mansion = Mansion(\"123 Luxury Lane\", 5000000, 10)\n",
    "print(mansion.get_mansion_info())\n"
   ]
  },
  {
   "cell_type": "code",
   "execution_count": null,
   "id": "7e656403-3e96-4f9f-9612-0c9c9943a85c",
   "metadata": {},
   "outputs": [],
   "source": []
  }
 ],
 "metadata": {
  "kernelspec": {
   "display_name": "Python 3 (ipykernel)",
   "language": "python",
   "name": "python3"
  },
  "language_info": {
   "codemirror_mode": {
    "name": "ipython",
    "version": 3
   },
   "file_extension": ".py",
   "mimetype": "text/x-python",
   "name": "python",
   "nbconvert_exporter": "python",
   "pygments_lexer": "ipython3",
   "version": "3.12.4"
  }
 },
 "nbformat": 4,
 "nbformat_minor": 5
}
