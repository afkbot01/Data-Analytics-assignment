{
 "cells": [
  {
   "cell_type": "markdown",
   "id": "2a71d01d-75fa-4dc5-a989-b109cb59896f",
   "metadata": {},
   "source": [
    "# Theory Questions"
   ]
  },
  {
   "cell_type": "markdown",
   "id": "c88332e1-7fce-450b-b23e-4d790fe8d35b",
   "metadata": {},
   "source": [
    "### 1 What is the difference between a function and a method in Python?"
   ]
  },
  {
   "cell_type": "markdown",
   "id": "dd1efa1a-a63d-4769-b097-4a44ae245504",
   "metadata": {},
   "source": [
    "In Python:\n",
    "\n",
    "A function is a block of code that performs a specific task. It is defined using the def keyword and is not part of any class.\n",
    "\n",
    "A method is similar to a function, but it is defined inside a class and is called using an object of that class. The first parameter of a method is always self, which refers to the instance of the class."
   ]
  },
  {
   "cell_type": "code",
   "execution_count": 28,
   "id": "f5e3f7f2-4ee8-4671-9e6c-471dcbb200d4",
   "metadata": {},
   "outputs": [
    {
     "name": "stdout",
     "output_type": "stream",
     "text": [
      "8\n"
     ]
    }
   ],
   "source": [
    "def add(a, b):\n",
    "    return a + b\n",
    "\n",
    "result = add(3, 5)\n",
    "print(result)  # Output: 8\n"
   ]
  },
  {
   "cell_type": "code",
   "execution_count": 30,
   "id": "c859a026-e19a-41df-87bf-b2a3112b3396",
   "metadata": {},
   "outputs": [
    {
     "name": "stdout",
     "output_type": "stream",
     "text": [
      "8\n"
     ]
    }
   ],
   "source": [
    "class Calculator:\n",
    "    def add(self, a, b):\n",
    "        return a + b\n",
    "\n",
    "calc = Calculator()\n",
    "result = calc.add(3, 5)\n",
    "print(result)  # Output: 8\n"
   ]
  },
  {
   "cell_type": "markdown",
   "id": "12d3450f-b000-427c-b549-b7d3ace95483",
   "metadata": {},
   "source": [
    "### 2.Explain the concept of function arguments and parameters in Python"
   ]
  },
  {
   "cell_type": "markdown",
   "id": "a0995532-a068-429d-99eb-dd1e34d389ca",
   "metadata": {},
   "source": [
    "In Python, function arguments and parameters are key concepts when defining and calling functions. Here's a breakdown:\n",
    "\n",
    "1. Function Parameters\n",
    "Parameters are variables defined in the function definition. They act as placeholders for the values that will be passed into the function when it is called.\n",
    "\n"
   ]
  },
  {
   "cell_type": "code",
   "execution_count": 35,
   "id": "51c11289-62e3-478c-a3dc-6c0be9eae33d",
   "metadata": {},
   "outputs": [],
   "source": [
    "def greet(name):  # 'name' is the parameter\n",
    "    print(f\"Hello, {name}!\")\n"
   ]
  },
  {
   "cell_type": "markdown",
   "id": "02e9bb2e-61d1-4f61-a3af-76e64ad1b6ca",
   "metadata": {},
   "source": [
    "In the function definition greet(name), name is the parameter. It is used as a placeholder for the value that will be passed when the function is called."
   ]
  },
  {
   "cell_type": "markdown",
   "id": "0652e01e-6b69-48ab-b7ce-c997e840547b",
   "metadata": {},
   "source": [
    "### 3 What are the different ways to define and call a function in Python?"
   ]
  },
  {
   "cell_type": "markdown",
   "id": "e7911f58-22b9-4883-9369-f6f9d1b59585",
   "metadata": {},
   "source": [
    "In Python, there are several ways to define and call functions, each with its specific use cases. Below are the main methods:"
   ]
  },
  {
   "cell_type": "code",
   "execution_count": 49,
   "id": "dc0d0073-03c8-4f15-8000-9461e406bf93",
   "metadata": {},
   "outputs": [
    {
     "name": "stdout",
     "output_type": "stream",
     "text": [
      "Hello, World!\n"
     ]
    }
   ],
   "source": [
    "#1. Defining a Simple Function\n",
    "def greet():\n",
    "    print(\"Hello, World!\")\n",
    "greet()  # Output: Hello, World!\n"
   ]
  },
  {
   "cell_type": "code",
   "execution_count": 47,
   "id": "343914b4-374c-4f40-868b-38eb3a3a0a55",
   "metadata": {},
   "outputs": [
    {
     "name": "stdout",
     "output_type": "stream",
     "text": [
      "Hello, Alice!\n"
     ]
    }
   ],
   "source": [
    "#2 Function with Parameters\n",
    "def greet(name):\n",
    "    print(f\"Hello, {name}!\")\n",
    "greet(\"Alice\")  # Output: Hello, Alice!\n"
   ]
  },
  {
   "cell_type": "code",
   "execution_count": 51,
   "id": "8dd0dcc2-3359-4521-b6d3-e9f96926d86b",
   "metadata": {},
   "outputs": [
    {
     "name": "stdout",
     "output_type": "stream",
     "text": [
      "7\n"
     ]
    }
   ],
   "source": [
    "#3. Function with Return Value\n",
    "def add_numbers(a, b):\n",
    "    return a + b\n",
    "result = add_numbers(3, 4)\n",
    "print(result)  # Output: 7\n"
   ]
  },
  {
   "cell_type": "markdown",
   "id": "d590dfb3-faee-4d26-9107-5bb78b39f5d6",
   "metadata": {},
   "source": [
    "### 4. What is the purpose of the `return` statement in a Python function?"
   ]
  },
  {
   "cell_type": "markdown",
   "id": "2a7fb823-6bd0-4475-a110-caa1928c553d",
   "metadata": {},
   "source": [
    "The return statement in a Python function is used to send a result back to the caller and exit the function. When a function reaches a return statement, the function stops executing, and the value specified after the return keyword is passed back to the caller.\n",
    "\n",
    "Key Purposes of the return Statement:\n",
    "Return a Value:\n",
    "\n",
    "The primary purpose of return is to return a result or value from the function to the caller.\n",
    "\n",
    "Once the return statement is executed, the function exits and returns the specified value to wherever the function was called."
   ]
  },
  {
   "cell_type": "code",
   "execution_count": 58,
   "id": "f710dc2b-630b-4ea8-ad32-c5f3be6b9b07",
   "metadata": {},
   "outputs": [
    {
     "name": "stdout",
     "output_type": "stream",
     "text": [
      "7\n"
     ]
    }
   ],
   "source": [
    "def add(a, b):\n",
    "    return a + b\n",
    "\n",
    "result = add(3, 4)  # The value 7 is returned and assigned to result\n",
    "print(result)  # Output: 7\n"
   ]
  },
  {
   "cell_type": "markdown",
   "id": "f9c495a5-415d-4a5a-a34d-81251be6222f",
   "metadata": {},
   "source": [
    "Why Use return?\n",
    "\n",
    "Modularity: It allows functions to be reusable. You can call a function multiple times and get different results based on the input.\n",
    "\n",
    "Flow Control: It provides a way to control the flow of the program and terminate a function early, especially when a result is found, and no further computation is needed.\n",
    "\n",
    "Passing Results: It enables functions to \"pass\" results to other parts of the program, making them an essential tool for data processing and manipulation."
   ]
  },
  {
   "cell_type": "markdown",
   "id": "90fa44eb-69eb-492a-b59f-c3edd8196ea9",
   "metadata": {},
   "source": [
    "### 5 What are iterators in Python and how do they differ from iterables?"
   ]
  },
  {
   "cell_type": "markdown",
   "id": "b92b30e9-bc9f-4a28-9a56-e6245f5d7b85",
   "metadata": {},
   "source": [
    "In Python, iterables and iterators are closely related concepts that are essential for looping over data structures, like lists, tuples, or even custom objects. Here's a breakdown of each concept and how they differ:"
   ]
  },
  {
   "cell_type": "markdown",
   "id": "3760be2b-54ff-4480-8420-1a081843a10d",
   "metadata": {},
   "source": [
    "terable: An object that can be iterated over (e.g., a list or tuple). It must implement the __iter__() method.\n",
    "\n",
    "Iterator: An object that keeps track of the current position while iterating and returns elements one by one via the __next__() method. Iterators are created from iterables using the iter() function."
   ]
  },
  {
   "cell_type": "markdown",
   "id": "36282fa1-68d0-4779-9f37-08a49395a959",
   "metadata": {},
   "source": [
    "### 6.Explain the concept of generators in Python and how they are defined"
   ]
  },
  {
   "cell_type": "markdown",
   "id": "96821bd9-95c1-4dcd-85b2-9885c1a03f7e",
   "metadata": {},
   "source": [
    "A generator in Python is a special type of iterator that allows you to generate values on the fly instead of storing them all in memory at once. They're ideal for working with large datasets or streams of data.\n",
    "\n",
    "Lazy Evaluation: Values are generated only when requested (using next() or a loop).\n",
    "\n",
    "Memory Efficient: Great for working with large data as it doesn’t store the entire sequence in memory.\n",
    "\n",
    "Iterable: Can be used in a for loop or with functions like sum(), list(), etc.\n",
    "\n",
    "Instead of return, a generator function uses yield, which pauses the function and saves its state, allowing it to resume later.\n"
   ]
  },
  {
   "cell_type": "code",
   "execution_count": 3,
   "id": "ca04ce1e-dfcf-4529-8fee-7ecee4e51661",
   "metadata": {},
   "outputs": [
    {
     "name": "stdout",
     "output_type": "stream",
     "text": [
      "1\n",
      "2\n",
      "3\n"
     ]
    }
   ],
   "source": [
    "def count_up_to(max):\n",
    "    count = 1\n",
    "    while count <= max:\n",
    "        yield count\n",
    "        count += 1\n",
    "\n",
    "counter = count_up_to(3)\n",
    "\n",
    "print(next(counter))  # Output: 1\n",
    "print(next(counter))  # Output: 2\n",
    "print(next(counter))  # Output: 3\n",
    "# next(counter) now would raise StopIteration\n"
   ]
  },
  {
   "cell_type": "markdown",
   "id": "623c443a-2f55-45a8-8b12-3c9039ae1614",
   "metadata": {},
   "source": [
    "### 7.  What are the advantages of using generators over regular functions?"
   ]
  },
  {
   "cell_type": "markdown",
   "id": "2430086f-9212-4e48-8e48-f98aa19da8c4",
   "metadata": {},
   "source": [
    "Generators offer several key advantages over regular functions, especially when working with large data sets or streams.\n",
    "\n",
    "1. Memory Efficiency\n",
    "2. Lazy Evaluation\n",
    "3. Faster stertup time\n",
    "4. Cleaner code for iteration\n",
    "5. infinite sequence support\n",
    "6. pipeline support\n",
    "7. simple state management"
   ]
  },
  {
   "cell_type": "markdown",
   "id": "d9cf1d3d-f5c9-4c69-9877-dd1a5f42a795",
   "metadata": {},
   "source": [
    "### 8. What is a lambda function in Python and when is it typically used?"
   ]
  },
  {
   "cell_type": "markdown",
   "id": "66150d25-4041-4fef-a483-8a0b471c95fd",
   "metadata": {},
   "source": [
    "A lambda function in Python is a small, anonymous function defined using the lambda keyword. It's typically used when you need a simple function for a short period of time, especially in places where defining a full def function would be overkill.\n",
    "\n"
   ]
  },
  {
   "cell_type": "markdown",
   "id": "34963266-037d-4847-a782-ac9892deaf7d",
   "metadata": {},
   "source": [
    "Used as an argument to higher-order functions like map(), filter(), and sorted():"
   ]
  },
  {
   "cell_type": "markdown",
   "id": "7fd691fe-94e1-4bd6-84ea-4970e5363ceb",
   "metadata": {},
   "source": [
    "With map() :"
   ]
  },
  {
   "cell_type": "code",
   "execution_count": 14,
   "id": "b2664338-f8e3-438d-b887-d67521085b64",
   "metadata": {},
   "outputs": [
    {
     "name": "stdout",
     "output_type": "stream",
     "text": [
      "[1, 4, 9, 16]\n"
     ]
    }
   ],
   "source": [
    "nums = [1, 2, 3, 4]\n",
    "squares = list(map(lambda x: x ** 2, nums))\n",
    "print(squares)  # Output: [1, 4, 9, 16]\n"
   ]
  },
  {
   "cell_type": "markdown",
   "id": "33902b1f-8bf7-4a3d-b272-d82e951f0f1e",
   "metadata": {},
   "source": [
    "with filter() :"
   ]
  },
  {
   "cell_type": "code",
   "execution_count": 17,
   "id": "0cce06b2-b442-45a4-85ca-da0217867010",
   "metadata": {},
   "outputs": [
    {
     "name": "stdout",
     "output_type": "stream",
     "text": [
      "[2, 4]\n"
     ]
    }
   ],
   "source": [
    "nums = [1, 2, 3, 4, 5]\n",
    "even = list(filter(lambda x: x % 2 == 0, nums))\n",
    "print(even)  # Output: [2, 4]\n"
   ]
  },
  {
   "cell_type": "markdown",
   "id": "307c6303-4bf7-4d65-852c-483945ecde6a",
   "metadata": {},
   "source": [
    " With sorted() (custom sort key):"
   ]
  },
  {
   "cell_type": "code",
   "execution_count": 20,
   "id": "41316851-7b69-4545-b186-ea0d0cfa0837",
   "metadata": {},
   "outputs": [
    {
     "name": "stdout",
     "output_type": "stream",
     "text": [
      "['kiwi', 'apple', 'grape', 'banana']\n"
     ]
    }
   ],
   "source": [
    "words = [\"apple\", \"banana\", \"grape\", \"kiwi\"]\n",
    "sorted_words = sorted(words, key=lambda word: len(word))\n",
    "print(sorted_words)  # Output: ['kiwi', 'apple', 'grape', 'banana']\n"
   ]
  },
  {
   "cell_type": "markdown",
   "id": "0dc98aeb-6301-439f-b074-f1e4c27a3ece",
   "metadata": {},
   "source": [
    "### 9.Explain the purpose and usage of the `map()` function in Python."
   ]
  },
  {
   "cell_type": "markdown",
   "id": "743f1741-f0a5-4b92-b84d-53675ff3107b",
   "metadata": {},
   "source": [
    "The map() function in Python is used to apply a given function to each item of an iterable (like a list, tuple, etc.) and return a new iterable (a map object) containing the results."
   ]
  },
  {
   "cell_type": "markdown",
   "id": "c01173c6-1a25-4cb5-8911-20b3341c7823",
   "metadata": {},
   "source": [
    "Purpose of map()\n",
    "\n",
    "To transform a collection (e.g., list) element by element using a specified function, without writing an explicit loop."
   ]
  },
  {
   "cell_type": "markdown",
   "id": "904b1e42-3f9d-41d6-a735-bd3b8caae929",
   "metadata": {},
   "source": [
    "map(function, iterable)\n"
   ]
  },
  {
   "cell_type": "markdown",
   "id": "145f0ebb-4957-4b29-82f2-ece6a8469977",
   "metadata": {},
   "source": [
    "When to Use map()\n",
    "When you want to transform all items in a collection.\n",
    "\n",
    "To make code cleaner and more concise than using for loops.\n",
    "\n",
    "When combined with lambda for short operations."
   ]
  },
  {
   "cell_type": "markdown",
   "id": "a135f147-7ae2-44f2-893a-7625b5cb1e76",
   "metadata": {},
   "source": [
    "Example:"
   ]
  },
  {
   "cell_type": "code",
   "execution_count": 33,
   "id": "2eca2a8e-5f9d-4090-9410-5a78e1a25562",
   "metadata": {},
   "outputs": [
    {
     "name": "stdout",
     "output_type": "stream",
     "text": [
      "[5, 7, 9]\n"
     ]
    }
   ],
   "source": [
    "a = [1, 2, 3]\n",
    "b = [4, 5, 6]\n",
    "result = list(map(lambda x, y: x + y, a, b))\n",
    "print(result)  # Output: [5, 7, 9]\n"
   ]
  },
  {
   "cell_type": "markdown",
   "id": "8ea3fbfb-913a-4b79-b75c-8c42ffd5f99b",
   "metadata": {},
   "source": [
    "### 10.What is the difference between `map()`, `reduce()`, and `filter()` functions in Python?"
   ]
  },
  {
   "cell_type": "markdown",
   "id": "8a4ad1f4-8674-40f7-b1de-30f716506e29",
   "metadata": {},
   "source": [
    "1. map() — Transform Elements\n",
    "Applies a function to each item in an iterable."
   ]
  },
  {
   "cell_type": "code",
   "execution_count": 37,
   "id": "e409c912-0fa7-45f5-a09e-907fa412378f",
   "metadata": {},
   "outputs": [
    {
     "name": "stdout",
     "output_type": "stream",
     "text": [
      "[1, 4, 9]\n"
     ]
    }
   ],
   "source": [
    "nums = [1, 2, 3]\n",
    "squared = list(map(lambda x: x ** 2, nums))\n",
    "print(squared)  # Output: [1, 4, 9]\n"
   ]
  },
  {
   "cell_type": "markdown",
   "id": "a9114a67-84c5-4fdd-94c9-d5e9696f4b60",
   "metadata": {},
   "source": [
    "2. filter() — Select Elements\n",
    "Filters elements where the function returns True."
   ]
  },
  {
   "cell_type": "code",
   "execution_count": 40,
   "id": "5919d7e2-88ff-49bf-8b2f-5eef119f0c01",
   "metadata": {},
   "outputs": [
    {
     "name": "stdout",
     "output_type": "stream",
     "text": [
      "[2, 4]\n"
     ]
    }
   ],
   "source": [
    "nums = [1, 2, 3, 4]\n",
    "even = list(filter(lambda x: x % 2 == 0, nums))\n",
    "print(even)  # Output: [2, 4]\n"
   ]
  },
  {
   "cell_type": "markdown",
   "id": "566564aa-9e50-4e61-8289-92ec1103b2aa",
   "metadata": {},
   "source": [
    "3. reduce() — Combine Elements\n",
    "Applies a function cumulatively to reduce the iterable to a single value."
   ]
  },
  {
   "cell_type": "code",
   "execution_count": 43,
   "id": "48c2a411-f41f-4320-a018-f7d674c8eed9",
   "metadata": {},
   "outputs": [
    {
     "name": "stdout",
     "output_type": "stream",
     "text": [
      "24\n"
     ]
    }
   ],
   "source": [
    "from functools import reduce\n",
    "\n",
    "nums = [1, 2, 3, 4]\n",
    "product = reduce(lambda x, y: x * y, nums)\n",
    "print(product)  # Output: 24\n"
   ]
  },
  {
   "cell_type": "markdown",
   "id": "6467bbbf-95ca-491f-9579-f5d4e82023b7",
   "metadata": {},
   "source": [
    "### Using pen & Paper write the internal mechanism for sum operation using  reduce function on this given  list:[47,11,42,13]; "
   ]
  },
  {
   "cell_type": "code",
   "execution_count": 47,
   "id": "efc3116a-237d-470b-8892-6740952ab77a",
   "metadata": {},
   "outputs": [
    {
     "data": {
      "text/plain": [
       "113"
      ]
     },
     "execution_count": 47,
     "metadata": {},
     "output_type": "execute_result"
    }
   ],
   "source": [
    "from functools import reduce\n",
    "reduce(lambda x, y: x + y, [47, 11, 42, 13])\n"
   ]
  },
  {
   "cell_type": "code",
   "execution_count": null,
   "id": "ea646d7d-68b5-4bb1-b0f8-4afd0a0a612d",
   "metadata": {},
   "outputs": [],
   "source": []
  },
  {
   "cell_type": "code",
   "execution_count": null,
   "id": "fa12385a-5b32-41f6-be57-199c03e267cf",
   "metadata": {},
   "outputs": [],
   "source": []
  },
  {
   "cell_type": "code",
   "execution_count": null,
   "id": "73ca9c24-f261-4c0b-ad23-c58e86387223",
   "metadata": {},
   "outputs": [],
   "source": []
  },
  {
   "cell_type": "markdown",
   "id": "df7df010-d967-4be6-9af5-33c9ddcad98c",
   "metadata": {},
   "source": [
    "# Practicle Questions"
   ]
  },
  {
   "cell_type": "markdown",
   "id": "766e6d60-5729-4c95-abb1-ad979c23d0c0",
   "metadata": {},
   "source": [
    "### 1. Write a Python function that takes a list of numbers as input and returns the sum of all even numbers in the list."
   ]
  },
  {
   "cell_type": "code",
   "execution_count": 52,
   "id": "d1252ff1-ab8e-4087-8229-a999b902336a",
   "metadata": {},
   "outputs": [
    {
     "name": "stdin",
     "output_type": "stream",
     "text": [
      "Enter numbers separated by Commas:  1,4,6,6,66,4,22,444,77,8,9999,0\n"
     ]
    },
    {
     "data": {
      "text/plain": [
       "560"
      ]
     },
     "execution_count": 52,
     "metadata": {},
     "output_type": "execute_result"
    }
   ],
   "source": [
    "def sum_func(nums):\n",
    "    nums = [int(num) for num in nums]\n",
    "    even = 0\n",
    "    for i in nums:\n",
    "        if i % 2 == 0:\n",
    "            even = even + i\n",
    "    return even\n",
    "\n",
    "a = list(input(\"Enter numbers separated by Commas: \").split(\",\"))\n",
    "sum_func(a)"
   ]
  },
  {
   "cell_type": "markdown",
   "id": "ad460621-27b8-4e93-9b34-7290f2270dbf",
   "metadata": {
    "jp-MarkdownHeadingCollapsed": true
   },
   "source": [
    "### 2. Create a Python function that accepts a string and returns the reverse of that string."
   ]
  },
  {
   "cell_type": "code",
   "execution_count": 16,
   "id": "40f904d8-3a0f-4a69-8d79-c2a9e004a963",
   "metadata": {},
   "outputs": [
    {
     "name": "stdin",
     "output_type": "stream",
     "text": [
      "Enter the name maaz\n"
     ]
    },
    {
     "data": {
      "text/plain": [
       "'zaam'"
      ]
     },
     "execution_count": 16,
     "metadata": {},
     "output_type": "execute_result"
    }
   ],
   "source": [
    "def rev_str(name):\n",
    "    rev = name[::-1]\n",
    "    return rev\n",
    "\n",
    "name = input(\"Enter the name\")\n",
    "rev_str(name)"
   ]
  },
  {
   "cell_type": "markdown",
   "id": "22e30778-9dbf-4d91-b873-d19a8046eaf9",
   "metadata": {},
   "source": [
    "### 3.  Implement a Python function that takes a list of integers and returns a new list containing the squares of each number"
   ]
  },
  {
   "cell_type": "code",
   "execution_count": 10,
   "id": "b758d97e-f762-4d64-8528-fe6c247203dd",
   "metadata": {},
   "outputs": [],
   "source": [
    "def sqr_int(args):\n",
    "    sqr = []\n",
    "    for i in args:\n",
    "        sqr.append(i**2)\n",
    "    return sqr\n",
    "\n",
    "    "
   ]
  },
  {
   "cell_type": "code",
   "execution_count": 14,
   "id": "c82e967a-0d8e-4f8b-80d0-dbc4b43612d2",
   "metadata": {},
   "outputs": [
    {
     "name": "stdin",
     "output_type": "stream",
     "text": [
      "Enter the numbers 1 2 34 5 6 7 78\n"
     ]
    },
    {
     "data": {
      "text/plain": [
       "[1, 4, 1156, 25, 36, 49, 6084]"
      ]
     },
     "execution_count": 14,
     "metadata": {},
     "output_type": "execute_result"
    }
   ],
   "source": [
    "num = list(map(int, input(\"Enter the numbers\").split()))\n",
    "sqr_int(num)"
   ]
  },
  {
   "cell_type": "markdown",
   "id": "568eebb8-362c-4966-b301-42cbaaeceb6a",
   "metadata": {},
   "source": [
    "### 4.  Write a Python function that checks if a given number is prime or not from 1 to 200"
   ]
  },
  {
   "cell_type": "code",
   "execution_count": 114,
   "id": "66841914-5c3c-487c-b623-4badbc05ff3a",
   "metadata": {},
   "outputs": [],
   "source": [
    "def is_prime(a):\n",
    "    if a <1 or a > 200:\n",
    "        print(\"The Given number is invalid\")\n",
    "    else:\n",
    "        for i in range(2,a):\n",
    "            if a%i == 0:\n",
    "                print(\"the Number is not Prime\")\n",
    "                break\n",
    "            else:\n",
    "                print(\"The number is prime\")\n",
    "                break"
   ]
  },
  {
   "cell_type": "code",
   "execution_count": 118,
   "id": "a18c7eda-51e7-40f1-8e64-40dc12e718de",
   "metadata": {},
   "outputs": [
    {
     "name": "stdin",
     "output_type": "stream",
     "text": [
      "Enter the number between 1 to 200:  400\n"
     ]
    },
    {
     "name": "stdout",
     "output_type": "stream",
     "text": [
      "The Given number is invalid\n"
     ]
    }
   ],
   "source": [
    "number = int(input(\"Enter the number between 1 to 200: \"))\n",
    "is_prime"
   ]
  },
  {
   "cell_type": "markdown",
   "id": "f3056215-5acd-4a24-802d-23ae50be89e8",
   "metadata": {},
   "source": [
    "### 5. Create an iterator class in Python that generates the Fibonacci sequence up to a specified number of terms"
   ]
  },
  {
   "cell_type": "code",
   "execution_count": 2,
   "id": "21f5ef85-925d-452b-808a-45ba376512a1",
   "metadata": {},
   "outputs": [
    {
     "name": "stdout",
     "output_type": "stream",
     "text": [
      "0\n",
      "1\n",
      "1\n",
      "1\n",
      "2\n",
      "3\n",
      "5\n",
      "8\n",
      "13\n",
      "21\n"
     ]
    }
   ],
   "source": [
    "class FibonacciIterator:\n",
    "    def __init__(self, num_terms):\n",
    "        self.num_terms = num_terms\n",
    "        self.count = 0\n",
    "        self.a, self.b = 0, 1\n",
    "\n",
    "    def __iter__(self):\n",
    "        return self\n",
    "\n",
    "    def __next__(self):\n",
    "        if self.count >= self.num_terms:\n",
    "            raise StopIteration\n",
    "        if self.count == 0:\n",
    "            self.count += 1\n",
    "            return 0\n",
    "        elif self.count == 1:\n",
    "            self.count += 1\n",
    "            return 1\n",
    "        else:\n",
    "            self.a, self.b = self.b, self.a + self.b\n",
    "            self.count += 1\n",
    "            return self.a\n",
    "\n",
    "# Example usage:\n",
    "fib = FibonacciIterator(10)\n",
    "for number in fib:\n",
    "    print(number)\n"
   ]
  },
  {
   "cell_type": "markdown",
   "id": "fa73a7da-7390-4421-9a71-a2393497ed20",
   "metadata": {},
   "source": [
    "### 6. Write a generator function in Python that yields the powers of 2 up to a given exponent."
   ]
  },
  {
   "cell_type": "code",
   "execution_count": 5,
   "id": "cd601467-7ad7-4dfb-b7cb-bc81d7977973",
   "metadata": {},
   "outputs": [
    {
     "name": "stdout",
     "output_type": "stream",
     "text": [
      "1\n",
      "2\n",
      "4\n",
      "8\n",
      "16\n",
      "32\n"
     ]
    }
   ],
   "source": [
    "def powers_of_two(max_exponent):\n",
    "    for exponent in range(max_exponent + 1):\n",
    "        yield 2 ** exponent\n",
    "\n",
    "# Example usage:\n",
    "for power in powers_of_two(5):\n",
    "    print(power)\n"
   ]
  },
  {
   "cell_type": "markdown",
   "id": "7fc1b8bc-88da-41ed-b684-80116e0d53ec",
   "metadata": {},
   "source": [
    "### 7. Implement a generator function that reads a file line by line and yields each line as a string."
   ]
  },
  {
   "cell_type": "code",
   "execution_count": 8,
   "id": "e667ed39-e33b-4ffd-bb54-72681079742d",
   "metadata": {},
   "outputs": [],
   "source": [
    "def read_file_line_by_line(file_path):\n",
    "    with open(file_path, 'r') as file:\n",
    "        for line in file:\n",
    "            yield line.rstrip('\\n')\n",
    "\n",
    "# Example usage:\n",
    "# for line in read_file_line_by_line('example.txt'):\n",
    "#     print(line)\n"
   ]
  },
  {
   "cell_type": "markdown",
   "id": "bdffbf2a-3ac9-466c-9b37-9904cf245e5d",
   "metadata": {},
   "source": [
    "### 8.Use a lambda function in Python to sort a list of tuples based on the second element of each tuple."
   ]
  },
  {
   "cell_type": "code",
   "execution_count": 11,
   "id": "bc76852f-9215-4d78-9f89-dc4c9207352d",
   "metadata": {},
   "outputs": [
    {
     "name": "stdout",
     "output_type": "stream",
     "text": [
      "[(4, 1), (3, 2), (1, 3), (2, 5)]\n"
     ]
    }
   ],
   "source": [
    "# Sample list of tuples\n",
    "data = [(1, 3), (4, 1), (2, 5), (3, 2)]\n",
    "\n",
    "# Sort by the second element of each tuple\n",
    "sorted_data = sorted(data, key=lambda x: x[1])\n",
    "\n",
    "print(sorted_data)\n"
   ]
  },
  {
   "cell_type": "markdown",
   "id": "db5cf219-7070-42f6-955c-0c579b3432bb",
   "metadata": {},
   "source": [
    "### 9. Write a Python program that uses `map()` to convert a list of temperatures from Celsius to Fahrenheit."
   ]
  },
  {
   "cell_type": "code",
   "execution_count": 14,
   "id": "55978b96-a3a9-41ae-b7c7-ef01f90f68b8",
   "metadata": {},
   "outputs": [
    {
     "name": "stdout",
     "output_type": "stream",
     "text": [
      "Temperatures in Fahrenheit: [32.0, 68.0, 98.6, 212.0]\n"
     ]
    }
   ],
   "source": [
    "# Function to convert Celsius to Fahrenheit\n",
    "def celsius_to_fahrenheit(celsius):\n",
    "    return (celsius * 9/5) + 32\n",
    "\n",
    "# List of temperatures in Celsius\n",
    "celsius_temps = [0, 20, 37, 100]\n",
    "\n",
    "# Convert using map()\n",
    "fahrenheit_temps = list(map(celsius_to_fahrenheit, celsius_temps))\n",
    "\n",
    "# Display the result\n",
    "print(f\"Temperatures in Fahrenheit: {fahrenheit_temps}\")\n"
   ]
  },
  {
   "cell_type": "markdown",
   "id": "877b89ba-0f29-4e49-b379-2552538ee5b9",
   "metadata": {},
   "source": [
    "### 10.Create a Python program that uses `filter()` to remove all the vowels from a given string."
   ]
  },
  {
   "cell_type": "code",
   "execution_count": 17,
   "id": "ae199ee7-65f2-4496-b8b9-cc26a2c17c36",
   "metadata": {},
   "outputs": [
    {
     "name": "stdout",
     "output_type": "stream",
     "text": [
      "String without vowels: Hll, Wrld!\n"
     ]
    }
   ],
   "source": [
    "def remove_vowels(input_str):\n",
    "    vowels = 'aeiouAEIOU'\n",
    "    return ''.join(filter(lambda char: char not in vowels, input_str))\n",
    "\n",
    "# Example usage\n",
    "text = \"Hello, World!\"\n",
    "result = remove_vowels(text)\n",
    "print(\"String without vowels:\", result)\n"
   ]
  },
  {
   "cell_type": "markdown",
   "id": "b496648a-01e3-4615-8b3f-255197b8e1fb",
   "metadata": {},
   "source": [
    "### 11.  Write a Python program, which returns a list with 2-tuples. Each tuple consists of the order number and the product of the price per item and the quantity. The product should be increased by 10,- € if the value of the order is smaller than 100,00 €."
   ]
  },
  {
   "cell_type": "code",
   "execution_count": 21,
   "id": "894c7e88-fb6e-43c5-8c31-a854271bdaa7",
   "metadata": {},
   "outputs": [
    {
     "name": "stdout",
     "output_type": "stream",
     "text": [
      "[(34587, 163.8), (98762, 284.0), (77226, 108.85000000000001), (88112, 84.97)]\n"
     ]
    }
   ],
   "source": [
    "# List of book orders\n",
    "orders = [\n",
    "    [34587, \"Learning Python, Mark Lutz\", 4, 40.95],\n",
    "    [98762, \"Programming Python, Mark Lutz\", 5, 56.80],\n",
    "    [77226, \"Head First Python, Paul Barry\", 3, 32.95],\n",
    "    [88112, \"Einführung in Python3, Bernd Klein\", 3, 24.99]\n",
    "]\n",
    "\n",
    "# Use map and lambda to calculate final list\n",
    "result = list(map(\n",
    "    lambda order: (order[0], order[2] * order[3] + (10 if order[2] * order[3] < 100 else 0)),\n",
    "    orders\n",
    "))\n",
    "\n",
    "# Print the result\n",
    "print(result)\n"
   ]
  },
  {
   "cell_type": "code",
   "execution_count": null,
   "id": "a90930e2-46f6-4c52-a186-e696b82ae6fd",
   "metadata": {},
   "outputs": [],
   "source": []
  }
 ],
 "metadata": {
  "kernelspec": {
   "display_name": "Python 3 (ipykernel)",
   "language": "python",
   "name": "python3"
  },
  "language_info": {
   "codemirror_mode": {
    "name": "ipython",
    "version": 3
   },
   "file_extension": ".py",
   "mimetype": "text/x-python",
   "name": "python",
   "nbconvert_exporter": "python",
   "pygments_lexer": "ipython3",
   "version": "3.12.4"
  }
 },
 "nbformat": 4,
 "nbformat_minor": 5
}
