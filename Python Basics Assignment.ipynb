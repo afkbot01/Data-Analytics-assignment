{
 "cells": [
  {
   "cell_type": "markdown",
   "id": "afcceb9c-7d0a-4e2b-8181-8fb893d76d3e",
   "metadata": {},
   "source": [
    "# Python Basics Assignment"
   ]
  },
  {
   "cell_type": "markdown",
   "id": "a3d14a4a-4eff-4753-b9a0-5d206178f38d",
   "metadata": {
    "jp-MarkdownHeadingCollapsed": true
   },
   "source": [
    "#### 1.Explain the key features of Python that make it a popular choice for programming. "
   ]
  },
  {
   "cell_type": "markdown",
   "id": "91df21cb-f9eb-435b-9dd1-1f86efe0e14b",
   "metadata": {},
   "source": [
    "Python is popular because it's easy to learn and flexible.\n",
    "\n",
    "Easy to Read: Python's commands look like plain English, so it's simple to understand and use.\n",
    "\n",
    "Does Many Jobs: You can use Python for building websites, analyzing data, making apps, or even working with artificial intelligence.\n",
    "\n",
    "Ready-to-Use Tools: Python gives you tons of built-in helpers, called libraries, that make tricky tasks much easier.\n",
    "\n",
    "Works Everywhere: Python programs can run on any computer, without needing big changes.\n",
    "\n",
    "Friendly Community: If you get stuck, there are lots of people online ready to help you figure it out."
   ]
  },
  {
   "cell_type": "markdown",
   "id": "cacfa95e-e701-41ac-8887-5fbb7030ae93",
   "metadata": {
    "jp-MarkdownHeadingCollapsed": true
   },
   "source": [
    "#### 2.Describe the role of predefined keywords in Python and provide examples of how they are used in a programm"
   ]
  },
  {
   "cell_type": "markdown",
   "id": "1031f37b-4223-4c2c-98e2-653c2ee4db73",
   "metadata": {},
   "source": [
    "Keywords are reserved words in Python that have special meanings and cannot be used as identifiers (variable names, function names, etc.).\n",
    "Examples of keywords include if, else, while, for, def, class, import, try, except, return, True, False, None, etc.\r\n",
    "Keywords are case-sensitive and cannot be redefined or overridden within a Python program."
   ]
  },
  {
   "cell_type": "code",
   "execution_count": 19,
   "id": "333cfe11-44a9-41e3-95ed-387ec2cfd861",
   "metadata": {},
   "outputs": [
    {
     "name": "stdout",
     "output_type": "stream",
     "text": [
      "The number is positive.\n"
     ]
    }
   ],
   "source": [
    "#Example\n",
    "#using predefined keywords\n",
    "\n",
    "number = 10\n",
    "\n",
    "\n",
    "# Print the result\n",
    "if number > 0:  \n",
    "    print(\"The number is positive.\")\n",
    "else:\n",
    "    print(\"The number is not positive.\")"
   ]
  },
  {
   "cell_type": "markdown",
   "id": "43777c46-3c19-4d2d-bd57-d200c0d3d425",
   "metadata": {
    "jp-MarkdownHeadingCollapsed": true
   },
   "source": [
    "#### 3.Compare and contrast mutable and immutable objects in Python with examples."
   ]
  },
  {
   "cell_type": "markdown",
   "id": "9c9c7db0-1e17-4c89-a843-d17cc47dc6b8",
   "metadata": {},
   "source": [
    "The objects where the elements can be edited anytime are called as mutable objects.\n",
    "and if not then it is a immutable object.\n",
    "\n",
    "Here are the example and camparison."
   ]
  },
  {
   "cell_type": "code",
   "execution_count": 26,
   "id": "cb87351c-7cc6-4122-a12e-1cbef903c3e7",
   "metadata": {},
   "outputs": [
    {
     "data": {
      "text/plain": [
       "[1, 2, 3, 4, 5, 56]"
      ]
     },
     "execution_count": 26,
     "metadata": {},
     "output_type": "execute_result"
    }
   ],
   "source": [
    "list_count = [1, 2, 3, 4, 5, 56]\n",
    "list_count"
   ]
  },
  {
   "cell_type": "code",
   "execution_count": 30,
   "id": "186962d2-cc64-4b55-9269-d9c36eed92ac",
   "metadata": {},
   "outputs": [
    {
     "data": {
      "text/plain": [
       "[1, 2, 'Maaz', 4, 5, 56]"
      ]
     },
     "execution_count": 30,
     "metadata": {},
     "output_type": "execute_result"
    }
   ],
   "source": [
    "#changing an element from the list\n",
    "list_count [2] = \"Maaz\"\n",
    "list_count \n",
    "#it is a mutable object"
   ]
  },
  {
   "cell_type": "code",
   "execution_count": 32,
   "id": "b21108db-97c2-4b0f-9950-23cbde01b958",
   "metadata": {},
   "outputs": [
    {
     "data": {
      "text/plain": [
       "'Maaz'"
      ]
     },
     "execution_count": 32,
     "metadata": {},
     "output_type": "execute_result"
    }
   ],
   "source": [
    "#example of immutable object\n",
    "a = \"Maaz\"\n",
    "a"
   ]
  },
  {
   "cell_type": "code",
   "execution_count": 36,
   "id": "311e6d4a-d754-4aab-bf6d-e59be6f82012",
   "metadata": {},
   "outputs": [
    {
     "ename": "TypeError",
     "evalue": "'str' object does not support item assignment",
     "output_type": "error",
     "traceback": [
      "\u001b[1;31m---------------------------------------------------------------------------\u001b[0m",
      "\u001b[1;31mTypeError\u001b[0m                                 Traceback (most recent call last)",
      "Cell \u001b[1;32mIn[36], line 2\u001b[0m\n\u001b[0;32m      1\u001b[0m \u001b[38;5;66;03m#changing the element of string\u001b[39;00m\n\u001b[1;32m----> 2\u001b[0m a [\u001b[38;5;241m0\u001b[39m] \u001b[38;5;241m=\u001b[39m \u001b[38;5;124m'\u001b[39m\u001b[38;5;124mR\u001b[39m\u001b[38;5;124m'\u001b[39m\n\u001b[0;32m      3\u001b[0m a\n",
      "\u001b[1;31mTypeError\u001b[0m: 'str' object does not support item assignment"
     ]
    }
   ],
   "source": [
    "#changing the element of string\n",
    "a [0] = 'R'\n",
    "a\n",
    "#it shows an error"
   ]
  },
  {
   "cell_type": "markdown",
   "id": "41b4bce2-4498-44f1-af9f-5cc49662986f",
   "metadata": {
    "jp-MarkdownHeadingCollapsed": true
   },
   "source": [
    "#### 4. Discuss the different types of operators in Python and provide examples of how they are used.|"
   ]
  },
  {
   "cell_type": "markdown",
   "id": "c86144bc-eebb-4dc0-81ed-59207b156458",
   "metadata": {},
   "source": [
    "Operators are special symbols or keywords that are used to carry out specific actions on numbers or variables in Python expressions. \n",
    "Python supports various types of operators, including arithmetic operators (+, -, *, /), comparison operators (==, !=, <, >), logical operators (and, or, not), assignment operators (=, +=, -=, *=, /=), etc.\n",
    "Operators have precedence and associativity rules that determine the order of evaluation in expressions.\n",
    "\n",
    "Examples:\n",
    "1. Arithmatic Operators"
   ]
  },
  {
   "cell_type": "code",
   "execution_count": 54,
   "id": "a961f5c4-d810-406a-b43f-32471d60dae3",
   "metadata": {},
   "outputs": [
    {
     "data": {
      "text/plain": [
       "30"
      ]
     },
     "execution_count": 54,
     "metadata": {},
     "output_type": "execute_result"
    }
   ],
   "source": [
    "a = 10\n",
    "b = 20\n",
    "a + b"
   ]
  },
  {
   "cell_type": "code",
   "execution_count": 60,
   "id": "80e47d01-2545-4018-a786-f68b9c154a98",
   "metadata": {},
   "outputs": [
    {
     "data": {
      "text/plain": [
       "-10"
      ]
     },
     "execution_count": 60,
     "metadata": {},
     "output_type": "execute_result"
    }
   ],
   "source": [
    "a - b"
   ]
  },
  {
   "cell_type": "code",
   "execution_count": 62,
   "id": "d91ef2f4-3fff-4e79-8497-f1b365571a2d",
   "metadata": {},
   "outputs": [
    {
     "data": {
      "text/plain": [
       "200"
      ]
     },
     "execution_count": 62,
     "metadata": {},
     "output_type": "execute_result"
    }
   ],
   "source": [
    "a*b"
   ]
  },
  {
   "cell_type": "code",
   "execution_count": 64,
   "id": "8e661ec6-9724-4838-82b2-b76ea29f95fa",
   "metadata": {},
   "outputs": [
    {
     "data": {
      "text/plain": [
       "10"
      ]
     },
     "execution_count": 64,
     "metadata": {},
     "output_type": "execute_result"
    }
   ],
   "source": [
    "a%b"
   ]
  },
  {
   "cell_type": "code",
   "execution_count": 66,
   "id": "fffb43a1-0ff7-4c1d-87a4-f7aad0fed31f",
   "metadata": {},
   "outputs": [
    {
     "data": {
      "text/plain": [
       "0.5"
      ]
     },
     "execution_count": 66,
     "metadata": {},
     "output_type": "execute_result"
    }
   ],
   "source": [
    "a/b"
   ]
  },
  {
   "cell_type": "markdown",
   "id": "59662d09-8524-4a6b-b45c-a938e4003c1c",
   "metadata": {},
   "source": [
    "These all are the exampl of arithmatic operator"
   ]
  },
  {
   "cell_type": "markdown",
   "id": "dc230a62-9c15-4085-ace8-279adae8274b",
   "metadata": {},
   "source": [
    "    2. Comparison Operators"
   ]
  },
  {
   "cell_type": "code",
   "execution_count": 70,
   "id": "675d5110-dbfd-400c-89e7-9a0571f958b3",
   "metadata": {},
   "outputs": [
    {
     "name": "stdout",
     "output_type": "stream",
     "text": [
      "False\n",
      "True\n",
      "False\n",
      "True\n"
     ]
    }
   ],
   "source": [
    "x = 5\n",
    "y = 10\n",
    "print(x > y)  # Greater than: False\n",
    "print(x < y)  # Less than: True\n",
    "print(x == y) # Equal to: False\n",
    "print(x != y) # Not equal to: True"
   ]
  },
  {
   "cell_type": "markdown",
   "id": "51af27be-1fdd-4eb2-8265-7fae249dc2a1",
   "metadata": {},
   "source": [
    "    3. Logical Operators"
   ]
  },
  {
   "cell_type": "code",
   "execution_count": 73,
   "id": "b069b618-f5ce-442d-999a-8bf78386e86d",
   "metadata": {},
   "outputs": [
    {
     "name": "stdout",
     "output_type": "stream",
     "text": [
      "True\n",
      "True\n",
      "False\n"
     ]
    }
   ],
   "source": [
    "x = 5\n",
    "y = 10\n",
    "print(x > 0 and y > 0)  # True, both conditions are true\n",
    "print(x > 0 or y < 0)   # True, one condition is true\n",
    "print(not(x > 0))       # False, reverses the result"
   ]
  },
  {
   "cell_type": "markdown",
   "id": "2330ac4b-d2ae-4394-8780-a750992b2acf",
   "metadata": {},
   "source": [
    "    4. Assignment Operators"
   ]
  },
  {
   "cell_type": "code",
   "execution_count": 76,
   "id": "88924baf-384e-4968-a8b1-5fea3601da0f",
   "metadata": {},
   "outputs": [
    {
     "name": "stdout",
     "output_type": "stream",
     "text": [
      "8\n"
     ]
    }
   ],
   "source": [
    "x = 5  # Assigns 5 to x\n",
    "x += 3 # Same as x = x + 3\n",
    "print(x)  # Output: 8\n"
   ]
  },
  {
   "cell_type": "markdown",
   "id": "93de4e68-00c5-40cc-ba99-d2e45839feb0",
   "metadata": {
    "jp-MarkdownHeadingCollapsed": true
   },
   "source": [
    "#### 5. Explain the concept of type casting in Python with examples."
   ]
  },
  {
   "cell_type": "markdown",
   "id": "8a356328-8fe6-472b-8af7-3f508bd18fe7",
   "metadata": {},
   "source": [
    "Type casting, also referred to as type conversion, is the process of changing one data type to another in Python. \n",
    "Python provides built-in functions for type casting, such as int(), float(), str(), list(), tuple(), dict(), etc.\n",
    "Type casting is often necessary for performing arithmetic operations, data manipulation, and input/output operations in Python programs."
   ]
  },
  {
   "cell_type": "code",
   "execution_count": 91,
   "id": "f22791cd-ba8d-4d8d-bf95-4a8c71719791",
   "metadata": {},
   "outputs": [
    {
     "name": "stdout",
     "output_type": "stream",
     "text": [
      "3\n"
     ]
    }
   ],
   "source": [
    "#Example\n",
    "x = 3.7\n",
    "y = int(x)  # Explicitly converting float to integer\n",
    "print(y)    # Output: 3 (Decimal part is removed)\n"
   ]
  },
  {
   "cell_type": "code",
   "execution_count": 93,
   "id": "22e27831-a15d-4a91-b125-a73a4c893fed",
   "metadata": {},
   "outputs": [
    {
     "name": "stdout",
     "output_type": "stream",
     "text": [
      "50\n"
     ]
    }
   ],
   "source": [
    "str_num = \"42\"\n",
    "num = int(str_num)  # Explicitly converting string to integer\n",
    "print(num + 8)      # Output: 50\n"
   ]
  },
  {
   "cell_type": "markdown",
   "id": "037540e0-0d51-4fd5-bed2-29953b1be8b4",
   "metadata": {
    "jp-MarkdownHeadingCollapsed": true
   },
   "source": [
    "#### 6.  How do conditional statements work in Python? Illustrate with examples\n"
   ]
  },
  {
   "cell_type": "markdown",
   "id": "e822035c-40d1-426e-a013-5e2415326d90",
   "metadata": {},
   "source": [
    "Conditionals in Python are used to execute code based on the evaluation of one or more conditions.\r\n",
    "Python supports conditional statements such as if, elif (else if), and else to control the flow of execution.\r\n",
    "Conditionals can be nested to handle multiple conditions and control different branches of execution based on the outcome of logical expressions."
   ]
  },
  {
   "cell_type": "code",
   "execution_count": 97,
   "id": "9a421c08-e889-4208-856e-c1efea018e40",
   "metadata": {},
   "outputs": [
    {
     "name": "stdout",
     "output_type": "stream",
     "text": [
      "You can vote!\n"
     ]
    }
   ],
   "source": [
    "age = 18\n",
    "\n",
    "if age >= 18:  # Checks if age is 18 or older\n",
    "    print(\"You can vote!\")  # If true, this line runs\n",
    "else:\n",
    "    print(\"You are too young to vote.\")  # If false, this line runs\n"
   ]
  },
  {
   "cell_type": "markdown",
   "id": "9f331e45-6c36-4a91-aaae-384160ad99fe",
   "metadata": {
    "jp-MarkdownHeadingCollapsed": true
   },
   "source": [
    "#### 7.  Describe the different types of loops in Python and their use cases with examples.\n"
   ]
  },
  {
   "cell_type": "markdown",
   "id": "ca25ca31-6c5c-4e88-b4e9-f49408e2cc67",
   "metadata": {},
   "source": [
    "In Python, loops are employed to repeat a sequence of actions or code until a specific condition is fulfilled. \r\n",
    "Python offers two primary types of loops: for loops and while loops. \r\n",
    "“for” loops are used for iterating over a sequence of elements, while “while” loops are used for executing code until a specified condition becomes False"
   ]
  },
  {
   "cell_type": "code",
   "execution_count": 101,
   "id": "742e1773-336a-4564-afd7-0fd947fd1c81",
   "metadata": {},
   "outputs": [
    {
     "name": "stdout",
     "output_type": "stream",
     "text": [
      "apple\n",
      "banana\n",
      "cherry\n"
     ]
    }
   ],
   "source": [
    "# Print each element in a list\n",
    "fruits = [\"apple\", \"banana\", \"cherry\"]\n",
    "for fruit in fruits:\n",
    "    print(fruit)\n",
    "#using for loop"
   ]
  },
  {
   "cell_type": "code",
   "execution_count": 103,
   "id": "ee2eeb4b-354e-4cae-84d2-844f5b7f3e0e",
   "metadata": {},
   "outputs": [
    {
     "name": "stdout",
     "output_type": "stream",
     "text": [
      "1\n",
      "2\n",
      "3\n",
      "4\n",
      "5\n"
     ]
    }
   ],
   "source": [
    "# Print numbers from 1 to 5\n",
    "num = 1\n",
    "while num <= 5:\n",
    "    print(num)\n",
    "    num += 1  # Increment num by 1\n",
    "#Using While loop"
   ]
  },
  {
   "cell_type": "code",
   "execution_count": null,
   "id": "8bf1646a-e738-4704-ad04-3fb75ab36cbf",
   "metadata": {},
   "outputs": [],
   "source": []
  }
 ],
 "metadata": {
  "kernelspec": {
   "display_name": "Python 3 (ipykernel)",
   "language": "python",
   "name": "python3"
  },
  "language_info": {
   "codemirror_mode": {
    "name": "ipython",
    "version": 3
   },
   "file_extension": ".py",
   "mimetype": "text/x-python",
   "name": "python",
   "nbconvert_exporter": "python",
   "pygments_lexer": "ipython3",
   "version": "3.12.4"
  }
 },
 "nbformat": 4,
 "nbformat_minor": 5
}
