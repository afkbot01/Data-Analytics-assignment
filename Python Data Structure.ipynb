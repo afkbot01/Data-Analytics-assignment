{
 "cells": [
  {
   "cell_type": "markdown",
   "id": "845fd821-cb70-46e1-a39f-294b73ea62be",
   "metadata": {
    "jp-MarkdownHeadingCollapsed": true
   },
   "source": [
    "# Data Structure"
   ]
  },
  {
   "cell_type": "markdown",
   "id": "94bf43f6-fac3-4b71-a6ef-a7664fc55642",
   "metadata": {
    "jp-MarkdownHeadingCollapsed": true
   },
   "source": [
    "### 1. What are data structures, and why are they important"
   ]
  },
  {
   "cell_type": "markdown",
   "id": "c50ea116-928f-437c-afd9-eaa578f814f0",
   "metadata": {},
   "source": [
    "Data structures are ways of organizing and storing data in a computer so that it can be accessed and modified efficiently. In Python, they are fundamental building blocks that help you manage and work with data effectively.\n",
    "\n",
    "Why Are Data Structures Important in Python?\n",
    "1.Efficient data management\n",
    "\n",
    "They allow you to store, organize, and retrieve data quickly.\n",
    "For example, lists let you keep an ordered collection, while dictionaries help with fast lookups using keys.\n",
    "\n",
    "2.Optimize performance\n",
    "\n",
    "The right data structure can significantly improve the speed and memory usage of your code.\n",
    "For example, using a set instead of a list for membership tests is much faster.\n",
    "\n",
    "3.Better problem-solving\n",
    "\n",
    "Different data structures are used for different problems (e.g., graphs for network problems, stacks for undo features, queues for task scheduling).\n",
    "\n",
    "4.Built-in and easy to use\n",
    "\n",
    "Python comes with powerful built-in data structures that are simple to implement and use.\n",
    "\n"
   ]
  },
  {
   "cell_type": "markdown",
   "id": "3d2b1c55-8657-4a2a-8c31-68c2fdf6f1ec",
   "metadata": {
    "jp-MarkdownHeadingCollapsed": true
   },
   "source": [
    "### 2. Explain the difference between mutable and immutable data types with examples"
   ]
  },
  {
   "cell_type": "markdown",
   "id": "9d468997-5631-4be0-9d26-5a97720f2fea",
   "metadata": {},
   "source": [
    "Mutable Data Types:\n",
    "\n",
    "Mutable data types allow changes to their contents without changing their identity (memory address). This means we can add, remove, or modify elements of a mutable object.\n",
    "\n",
    "Examples of mutable data types:\n",
    "\n",
    "List, Dictionary, Set"
   ]
  },
  {
   "cell_type": "code",
   "execution_count": 7,
   "id": "6093810d-b39f-4b5a-bb49-404bb131ec7d",
   "metadata": {},
   "outputs": [
    {
     "name": "stdout",
     "output_type": "stream",
     "text": [
      "2361147684928\n",
      "[1, 2, 3, 4]\n",
      "2361147684928\n"
     ]
    }
   ],
   "source": [
    "my_list = [1, 2, 3]\n",
    "print(id(my_list))       # Prints memory address\n",
    "my_list.append(4)        # Modifies the list\n",
    "print(my_list)           # Output: [1, 2, 3, 4]\n",
    "print(id(my_list))       # Same memory address — proves it's mutable\n"
   ]
  },
  {
   "cell_type": "markdown",
   "id": "fcf62ca2-c6ef-49ab-941c-5ed35a3ff398",
   "metadata": {},
   "source": [
    "Immutable Data Types:\n",
    "\n",
    "Immutable data types do not allow changes to their contents after creation. Any operation that tries to modify the object will instead create a new object in memory.\n",
    "\n",
    "Examples of immutable data types:\n",
    "\n",
    "int, float,,str, tuple"
   ]
  },
  {
   "cell_type": "code",
   "execution_count": 12,
   "id": "4a022fe6-8e39-459f-b1d9-4c54b8de4876",
   "metadata": {},
   "outputs": [
    {
     "name": "stdout",
     "output_type": "stream",
     "text": [
      "2361123554240\n",
      "hello world\n",
      "2361171390896\n"
     ]
    }
   ],
   "source": [
    "my_str = \"hello\"\n",
    "print(id(my_str))        # Memory address before change\n",
    "my_str += \" world\"       # Creates a new string object\n",
    "print(my_str)            # Output: \"hello world\"\n",
    "print(id(my_str))        # Different memory address — proves it's immutable\n"
   ]
  },
  {
   "cell_type": "code",
   "execution_count": null,
   "id": "2b9826dd-dd36-4df0-89f7-1efdcb6bc66d",
   "metadata": {},
   "outputs": [],
   "source": []
  },
  {
   "cell_type": "markdown",
   "id": "3ff393b0-e2cc-4fe1-a285-221ee4577565",
   "metadata": {
    "jp-MarkdownHeadingCollapsed": true
   },
   "source": [
    "### 3. What are the main differences between lists and tuples in Python"
   ]
  },
  {
   "cell_type": "markdown",
   "id": "5678823c-797e-46b9-9b99-80a3927ad420",
   "metadata": {},
   "source": [
    "Both lists and tuples are built-in data structures in Python used to store collections of items. However, they differ in several key aspects:"
   ]
  },
  {
   "cell_type": "markdown",
   "id": "5041abe9-9b33-4e41-94d8-24b9b9f72008",
   "metadata": {},
   "source": [
    "1. Mutability\n",
    "List: Mutable — you can change, add, or remove elements.\n",
    "Tuple: Immutable — once created, it cannot be changed.\n",
    "\n",
    "2. Syntax\n",
    "List: Square brackets []\n",
    "Tuple: Parentheses () or just commas\n",
    "\n",
    " 3. Performance\n",
    "Tuples are slightly faster than lists when it comes to iteration and lookup, because of their immutability.\n",
    "Useful when performance matters and you don’t need to modify the data.\n",
    "\n",
    " 4. Use Cases\n",
    "Lists: Use when you need a dynamic collection — like a shopping cart or list of tasks.\n",
    "Tuples: Use when you need a fixed collection — like coordinates, RGB values, or function return values.\n",
    "\n",
    " 5. Built-in Methods\n",
    "Lists have more built-in methods (.append(), .remove(), .sort(), etc.)\n",
    "Tuples have fewer methods, mostly for introspection (.count(), .index()).\n",
    "\n",
    "6. Can Be Used as Dictionary Keys\n",
    "Tuples:  Yes (if all elements are immutable)\n",
    "Lists:  No (because they are mutable)"
   ]
  },
  {
   "cell_type": "markdown",
   "id": "ddafae38-f4a5-4aaf-93d7-268eb6069b12",
   "metadata": {
    "jp-MarkdownHeadingCollapsed": true
   },
   "source": [
    "### 4. Describe how dictionaries store data"
   ]
  },
  {
   "cell_type": "markdown",
   "id": "e065ce87-99f5-4f39-9516-eb8caa078f59",
   "metadata": {},
   "source": [
    "Dictionaries in Python store data as key-value pairs. Each key is unique and maps to a corresponding value. Internally, Python uses a hash table to store these pairs efficiently.\n",
    "\n",
    "When a key is added to the dictionary, Python computes its hash value using a built-in hash function. This hash determines the index where the key-value pair is stored in memory. This mechanism allows for very fast data access — typically in constant time (O(1)).\n",
    "\n",
    "To be used as a key, an object must be immutable and hashable, such as strings, numbers, or tuples containing only immutable elements. The values, however, can be of any data type and may be duplicated.\n",
    "\n",
    "This structure allows dictionaries to be powerful tools for storing and retrieving data quickly by key."
   ]
  },
  {
   "cell_type": "markdown",
   "id": "6bb5269b-7dda-4097-88fe-abf086cea85e",
   "metadata": {
    "jp-MarkdownHeadingCollapsed": true
   },
   "source": [
    "### 5. Why might you use a set instead of a list in Python"
   ]
  },
  {
   "cell_type": "markdown",
   "id": "f830948c-cd82-4f04-a5ec-e5b911777223",
   "metadata": {},
   "source": [
    "Uniqueness: Sets automatically enforce uniqueness, meaning they cannot have duplicate elements. If you need to store only distinct items, sets are more efficient than lists, which can contain duplicates.\n",
    "\n",
    "Faster Membership Testing: Sets provide faster membership testing (i.e., checking if an item is in the set) because they are implemented using hash tables, whereas lists require O(n) time for this operation, where n is the number of items.\n",
    "\n",
    "Set Operations: Sets support mathematical set operations like union (|), intersection (&), difference (-), and symmetric difference (^). If you need to perform these kinds of operations, sets are more appropriate.\n",
    "\n",
    "Immutability: While you can modify the contents of a set (adding or removing elements), sets themselves are unordered and do not preserve the order of elements. If order doesn’t matter and you need to avoid duplicates, sets are a good choice."
   ]
  },
  {
   "cell_type": "markdown",
   "id": "1bdd1a60-3fd4-4914-876e-da73311751b9",
   "metadata": {
    "jp-MarkdownHeadingCollapsed": true
   },
   "source": [
    "### 6. What is a string in Python, and how is it different from a list  give me answer"
   ]
  },
  {
   "cell_type": "markdown",
   "id": "263de50a-3574-496a-9f11-65cb00d0dee2",
   "metadata": {},
   "source": [
    "In Python, a string is a sequence of characters enclosed in single (') or double (\") quotes.\n",
    "Differences between a String and a List:\n",
    "Data Type:\n",
    "\n",
    "A string is a sequence of characters (text).\n",
    "\n",
    "A list is a collection of items, which can be of any data type (numbers, strings, objects, etc.).\n",
    "\n",
    "Immutability vs. Mutability:\n",
    "\n",
    "Strings are immutable, meaning once created, their content cannot be changed.\n",
    "\n",
    "Lists are mutable, meaning you can modify their elements (add, remove, or change items).\n",
    "\n",
    "Type of Elements:\n",
    "\n",
    "A string consists only of characters (text).\n",
    "\n",
    "A list can contain any mix of data types (integers, strings, other lists, etc.).\n",
    "\n",
    "Indexing and Slicing:\n",
    "\n",
    "Both strings and lists support indexing (accessing elements by position) and slicing (extracting parts of them).\n",
    "\n",
    "Example with string: my_string[0] returns 'H'\n",
    "\n",
    "Example with list: my_list[0] could return an integer, string, or any other item based on what’s in the list.\n",
    "\n",
    "Methods:\n",
    "\n",
    "Strings have methods like .upper(), .lower(), .replace(), etc., for manipulating text.\n",
    "\n",
    "Lists have methods like .append(), .remove(), .pop(), etc., for manipulating the elements inside the list."
   ]
  },
  {
   "cell_type": "markdown",
   "id": "d0888da5-4942-4bc4-9d72-c7ac58471d42",
   "metadata": {
    "jp-MarkdownHeadingCollapsed": true
   },
   "source": [
    "### 7.  How do tuples ensure data integrity in Python"
   ]
  },
  {
   "cell_type": "markdown",
   "id": "a0b9f9fc-5bc1-45c6-a005-0e3d5aeda5b2",
   "metadata": {},
   "source": [
    "Tuples in Python help ensure data integrity by being immutable. This means that once a tuple is created, its contents cannot be modified. Here's how this immutability contributes to data integrity:\n",
    "\n",
    "Preventing Accidental Changes: Since tuples cannot be altered after creation (i.e., no adding, removing, or changing elements), this prevents accidental modifications. If you want to ensure that data remains unchanged throughout the program, you can use a tuple instead of a list.\n",
    "\n",
    "Hashable: Because tuples are immutable, they are hashable, meaning they can be used as keys in dictionaries and elements in sets. This adds another layer of integrity, as their values will not change while being used as dictionary keys or set elements.\n",
    "\n",
    "Consistent State: Tuples ensure that once data is assigned, its state remains consistent throughout the program's execution. This is useful for situations where the integrity of the data needs to be preserved, such as when passing data between different parts of an application."
   ]
  },
  {
   "cell_type": "markdown",
   "id": "c66850a4-f9df-4a6a-95fa-bf6a838ac27d",
   "metadata": {
    "jp-MarkdownHeadingCollapsed": true
   },
   "source": [
    "### 8.What is a hash table, and how does it relate to dictionaries in Python"
   ]
  },
  {
   "cell_type": "markdown",
   "id": "8079079f-2045-4291-84ad-4d13d49d9269",
   "metadata": {},
   "source": [
    "A hash table is a data structure that stores key-value pairs and uses a hash function to compute an index (or hash) where each value should be stored. This allows for efficient lookup, insertion, and deletion of values based on their keys.\n",
    "\n",
    "How It Relates to Python Dictionaries:\n",
    "In Python, dictionaries are implemented using hash tables. When you store a value in a dictionary, the key is hashed using a hash function to determine where the corresponding value should be placed in memory. When you later query the dictionary using the key, the hash table can quickly locate the value associated with that key.\n",
    "\n",
    "Key: The value you use to store and retrieve data (e.g., a string, number, or tuple).\n",
    "\n",
    "Value: The data associated with the key."
   ]
  },
  {
   "cell_type": "markdown",
   "id": "43509d15-e6cf-40ea-8f38-bff8f9ff2d57",
   "metadata": {
    "jp-MarkdownHeadingCollapsed": true
   },
   "source": [
    "### 9. Can lists contain different data types in Python"
   ]
  },
  {
   "cell_type": "markdown",
   "id": "6dead668-99e9-450d-9e58-0c8d8cef5d80",
   "metadata": {},
   "source": [
    "lists in Python can contain different data types. Unlike arrays in some other languages, Python lists are heterogeneous, meaning they can store elements of any data type together in a single list."
   ]
  },
  {
   "cell_type": "markdown",
   "id": "86a60169-7dc4-47c2-a228-e932caa5296a",
   "metadata": {
    "jp-MarkdownHeadingCollapsed": true
   },
   "source": [
    "### 10. Explain why strings are immutable in Python"
   ]
  },
  {
   "cell_type": "markdown",
   "id": "34609113-18f0-40a3-9452-45a54479681d",
   "metadata": {},
   "source": [
    "1. Efficiency in Memory Management:\n",
    "Memory Optimization: Immutable objects like strings are more memory efficient. When you create a string, Python can reuse the same memory location if the same string is encountered again, avoiding the overhead of creating new objects each time.\n",
    "\n",
    "Interning: Python uses an optimization technique called string interning, where identical string literals are stored only once in memory. This is possible because strings are immutable, so their contents will never change, making it safe to reuse the same memory location for identical strings.\n",
    "\n",
    "2. Hashing and Performance:\n",
    "Hashable: Immutable objects can be used as keys in dictionaries and elements in sets. If strings were mutable, their content could change, which would invalidate their hash values and make them unreliable as dictionary keys. Since strings are immutable, their hash values remain constant throughout their lifetime.\n",
    "\n",
    "\n",
    "3. Consistency and Predictability:\n",
    "Preventing Accidental Changes: Immutable strings ensure that their content cannot be modified, reducing the chances of unintended side effects in programs. This immutability guarantees that once a string is created, it stays consistent, which is important for predictable behavior in code.\n",
    "\n",
    "4. Thread Safety:\n",
    "Immutable objects are naturally thread-safe because their state cannot be changed after they are created. This makes strings in Python safer to use in multi-threaded environments, where shared data needs to remain consistent.\n",
    "\n",
    "5. String Operations:\n",
    "Even though strings are immutable, Python provides many string methods (e.g., .upper(), .lower(), .replace(), etc.) that return new strings with the desired changes rather than modifying the original string. This approach ensures that the original string remains unchanged while still allowing for flexible manipulation of string data."
   ]
  },
  {
   "cell_type": "markdown",
   "id": "7dc48fc5-3a4c-4d4c-9062-a086d1909bbe",
   "metadata": {
    "jp-MarkdownHeadingCollapsed": true
   },
   "source": [
    "### 11. What advantages do dictionaries offer over lists for certain tasks"
   ]
  },
  {
   "cell_type": "markdown",
   "id": "afa4b207-b930-461e-bb05-5b82e36c6ebf",
   "metadata": {},
   "source": [
    "1. Fast Lookup by Key\n",
    "2. Associating Data with Keys\n",
    "3. No Duplicates for Keys\n",
    "4. Flexible and Readable\n",
    "5. Set Operations\n",
    "6. More Structured Data"
   ]
  },
  {
   "cell_type": "markdown",
   "id": "8fdb6478-0afb-4cfa-a779-06d1ce9bb032",
   "metadata": {
    "jp-MarkdownHeadingCollapsed": true
   },
   "source": [
    "### 12. Describe a scenario where using a tuple would be preferable over a list"
   ]
  },
  {
   "cell_type": "markdown",
   "id": "969fe278-664d-4c9a-be94-c0abdd7017e6",
   "metadata": {},
   "source": [
    "A tuple would be preferable over a list in scenarios where you need to ensure that the data remains constant and unchanged throughout the program. Here’s a detailed scenario where using a tuple is the better choice:\n",
    "\n",
    "Scenario: Storing Coordinates for a Geographical Location\n",
    "Imagine you are building a program that tracks geographical locations, and you need to store the latitude and longitude of a place. These coordinates should not change once set, as they represent a fixed location on Earth. In this case, using a tuple would be ideal.\n",
    "\n",
    "Why Use a Tuple Here:\n",
    "Immutability: Once the latitude and longitude are set, you don't want them to change, as it would alter the integrity of the location data. A tuple, being immutable, ensures that the values cannot be modified after creation.\n",
    "\n",
    "Performance: Tuples are more memory-efficient and faster than lists due to their immutability. Since the data is not going to change, using a tuple saves memory and ensures faster access compared to using a list.\n",
    "\n",
    "Semantic Meaning: Using a tuple can also convey the idea that these values are a fixed pair that should not be altered, making the code more readable and meaningful."
   ]
  },
  {
   "cell_type": "markdown",
   "id": "dee47c91-8bef-425f-a7ac-aa47c4e6f263",
   "metadata": {
    "jp-MarkdownHeadingCollapsed": true
   },
   "source": [
    "### 13.  How do sets handle duplicate values in Python"
   ]
  },
  {
   "cell_type": "markdown",
   "id": "c8f786f1-8ad3-42e3-a3d1-16a0bd27930c",
   "metadata": {},
   "source": [
    "In Python, sets automatically remove duplicate values. A set is an unordered collection of unique elements, which means it can only contain one occurrence of each value. If you attempt to add a duplicate value to a set, it will simply be ignored."
   ]
  },
  {
   "cell_type": "markdown",
   "id": "ebfccd2d-dd46-4859-82d5-f7211487ee74",
   "metadata": {
    "jp-MarkdownHeadingCollapsed": true
   },
   "source": [
    "### 14.  How does the “in” keyword work differently for lists and dictionaries"
   ]
  },
  {
   "cell_type": "markdown",
   "id": "74146c84-2bf6-449c-805d-1c22db607ec5",
   "metadata": {},
   "source": [
    "The in keyword works differently for lists and dictionaries in Python because it checks for membership in distinct ways for each data structure.\n",
    "\n",
    "1. For Lists:\n",
    "The in keyword checks if a value exists in the list. It iterates through each element of the list to see if the value is present.\n",
    "\n",
    "Time Complexity: The time complexity of checking if an element is in a list is O(n), where n is the number of elements in the list. This is because the search may need to check each item one by one.\n",
    "\n",
    "2. For Dictionaries:\n",
    "The in keyword checks if a key exists in the dictionary, not the value. It checks whether the key is part of the dictionary's set of keys.\n",
    "\n",
    "Time Complexity: Checking if a key is in a dictionary is much faster, with a time complexity of O(1), because dictionaries are implemented using hash tables, which allow for constant-time lookups."
   ]
  },
  {
   "cell_type": "markdown",
   "id": "33d93f6b-2345-4f08-88d3-7f1dbb4d19b3",
   "metadata": {
    "jp-MarkdownHeadingCollapsed": true
   },
   "source": [
    "### 15. Can you modify the elements of a tuple? Explain why or why not"
   ]
  },
  {
   "cell_type": "markdown",
   "id": "806dc2ec-0de3-4558-aa46-0e00fdb359e2",
   "metadata": {},
   "source": [
    "No, you cannot modify the elements of a tuple in Python once it is created. This is because tuples are immutable.\n",
    "Why Can't You Modify a Tuple?\n",
    "Immutability:\n",
    "\n",
    "Tuples are designed to be immutable, which means their contents cannot be changed after they are created. This includes adding, removing, or changing elements.\n",
    "\n",
    "This design decision helps ensure data integrity and makes tuples more memory-efficient and faster for certain use cases.\n",
    "\n",
    "Safety and Consistency:\n",
    "\n",
    "Immutability guarantees that once a tuple is created, its data remains constant, which is important in situations where you want to avoid accidental changes to the data. This is especially useful for data that should remain fixed throughout the program, like coordinates, configuration settings, or other constant values.\n",
    "\n",
    "Hashability:\n",
    "\n",
    "Because tuples are immutable, they are hashable and can be used as keys in dictionaries and as elements in sets, unlike lists (which are mutable and therefore unhashable). This is because the hash value of an object needs to remain constant throughout its lifetime."
   ]
  },
  {
   "cell_type": "code",
   "execution_count": null,
   "id": "50f9e5b3-d3b7-45db-b0e9-eb18beb9d628",
   "metadata": {},
   "outputs": [],
   "source": []
  },
  {
   "cell_type": "markdown",
   "id": "1979d7ea-f960-43a8-961d-c44dba066249",
   "metadata": {
    "jp-MarkdownHeadingCollapsed": true
   },
   "source": [
    "### 16.  What is a nested dictionary, and give an example of its use case"
   ]
  },
  {
   "cell_type": "markdown",
   "id": "c56250bf-421b-4d7f-a695-14cd4077d6bf",
   "metadata": {},
   "source": [
    "A nested dictionary is a dictionary where the values of one or more keys are themselves dictionaries. Essentially, it allows you to store more complex data structures by having dictionaries within dictionaries. This enables you to represent hierarchical data or grouped data efficiently.\n",
    "\n",
    "Use Case Example: Representing a Student Database\n",
    "Imagine you are building a system to store information about multiple students. Each student has a name, age, and a list of subjects with their corresponding grades. A nested dictionary is ideal for this scenario, as it allows you to store structured information about each student."
   ]
  },
  {
   "cell_type": "code",
   "execution_count": 49,
   "id": "bfc7912c-4993-43e7-aadb-0d9953384d51",
   "metadata": {},
   "outputs": [
    {
     "name": "stdout",
     "output_type": "stream",
     "text": [
      "Alice\n",
      "75\n",
      "21\n"
     ]
    }
   ],
   "source": [
    "# Nested dictionary representing a student database\n",
    "students = {\"student_1\": {\"name\": \"Alice\",\"age\": 20,\"subjects\": {\"Math\": 90,\"Science\": 85,\"English\": 88}},\n",
    "            \"student_2\": {\"name\": \"Bob\",\"age\": 22,\"subjects\": {\"Math\": 75,\"Science\": 80,\"History\": 89}},\n",
    "            \"student_3\": {\"name\": \"Charlie\",\"age\": 21,\"subjects\": {\"Math\": 95,\"Art\": 92,\"English\": 78}}}\n",
    "\n",
    "# Accessing data from the nested dictionary\n",
    "print(students[\"student_1\"][\"name\"])  # Output: Alice\n",
    "print(students[\"student_2\"][\"subjects\"][\"Math\"])  # Output: 75\n",
    "print(students[\"student_3\"][\"age\"])  # Output: 21\n"
   ]
  },
  {
   "cell_type": "markdown",
   "id": "6881327f-a873-4b7c-bb8b-6c6e497a3951",
   "metadata": {
    "jp-MarkdownHeadingCollapsed": true
   },
   "source": [
    "### 17. Describe the time complexity of accessing elements in a dictionary"
   ]
  },
  {
   "cell_type": "markdown",
   "id": "5f22da89-aaf3-458a-a18c-923c3ab84315",
   "metadata": {},
   "source": [
    "The time complexity of accessing elements in a dictionary is O(1) on average.\n",
    "\n",
    "This is because dictionaries in Python are implemented using hash tables, which allow for constant-time access, insertion, and deletion operations under average conditions. However, in the worst case (due to hash collisions), the time complexity can degrade to O(n)."
   ]
  },
  {
   "cell_type": "markdown",
   "id": "e61bb11b-8ff3-46d9-8869-3519974eb7fe",
   "metadata": {
    "jp-MarkdownHeadingCollapsed": true
   },
   "source": [
    "### 18. In what situations are lists preferred over dictionaries"
   ]
  },
  {
   "cell_type": "markdown",
   "id": "4144ca7b-35d6-44d0-b592-17c3916c8d0b",
   "metadata": {},
   "source": [
    "Ordered Data: When you need to maintain the order of elements or perform operations that rely on element positions (like indexing or slicing), lists are ideal.\n",
    "\n",
    "Simple Collection: When storing a simple sequence of items without needing key-value pairs, lists are more straightforward and efficient.\n",
    "\n",
    "Iterating in Order: When you want to iterate over elements in the exact order they were added, lists are preferred (though dict in Python 3.7+ also maintains insertion order).\n",
    "\n",
    "Low Memory Usage: Lists typically consume less memory than dictionaries since they only store values, not keys.\n",
    "\n",
    "Index-Based Access: When you need to access elements by their position using an index (e.g., my_list[2]), lists are necessary."
   ]
  },
  {
   "cell_type": "markdown",
   "id": "ebf30560-5b10-4749-b168-21c25e53b641",
   "metadata": {
    "jp-MarkdownHeadingCollapsed": true
   },
   "source": [
    "### 19. Why are dictionaries considered unordered, and how does that affect data retrieval"
   ]
  },
  {
   "cell_type": "markdown",
   "id": "7aea346c-10c2-424c-b7f3-967c446bcc11",
   "metadata": {},
   "source": [
    "Dictionaries were traditionally considered unordered because, before Python 3.7, they did not preserve the insertion order of key-value pairs. The underlying hash table implementation focused on fast access rather than order.\n",
    "\n",
    "How does that affect data retrieval?\n",
    "In older Python versions (before 3.7), iterating over a dictionary (e.g., using for key in my_dict) could return items in an unpredictable order.\n",
    "\n",
    "If you needed ordered data retrieval, you had to use other structures like OrderedDict from the collections module."
   ]
  },
  {
   "cell_type": "markdown",
   "id": "4643328d-5049-4e19-a89c-4b0fd3f591b2",
   "metadata": {
    "jp-MarkdownHeadingCollapsed": true
   },
   "source": [
    "### 20. Explain the difference between a list and a dictionary in terms of data retrieval"
   ]
  },
  {
   "cell_type": "markdown",
   "id": "7db2c5c9-4dd4-48a3-9be5-da96b29de54e",
   "metadata": {},
   "source": [
    "List:\n",
    "\n",
    "Access by index (position).\n",
    "Uses integer-based indexing starting from 0.\n",
    "\n",
    "Example: my_list[2] retrieves the 3rd item.\n",
    "\n",
    "Time complexity: O(1) for accessing by index.\n",
    "\n",
    "Best when order matters and you want to access elements by position.\n",
    "\n",
    "\n",
    "Dictionary:\n",
    "\n",
    "Access by key (not position).\n",
    "\n",
    "Uses unique keys (strings, numbers, etc.) to store and retrieve values.\n",
    "\n",
    "Example: my_dict[\"name\"] retrieves the value associated with the key \"name\".\n",
    "\n",
    "Time complexity: O(1) on average, thanks to hash table implementation.\n",
    "\n",
    "Best when you want to retrieve data based on a meaningful label or identifier."
   ]
  },
  {
   "cell_type": "markdown",
   "id": "dbb5bc4d-9b5b-4b37-977a-569c342a4cf1",
   "metadata": {
    "jp-MarkdownHeadingCollapsed": true
   },
   "source": [
    "# Practical Questions"
   ]
  },
  {
   "cell_type": "markdown",
   "id": "7d0d8206-0de1-4ace-aec6-0e54ddd8dc8e",
   "metadata": {
    "jp-MarkdownHeadingCollapsed": true
   },
   "source": [
    "### 1. Write a code to create a string with your name and print it"
   ]
  },
  {
   "cell_type": "code",
   "execution_count": 11,
   "id": "e235d9b8-7a87-4a6b-a6e7-c0db5c162091",
   "metadata": {},
   "outputs": [
    {
     "name": "stdout",
     "output_type": "stream",
     "text": [
      "Maaz\n"
     ]
    }
   ],
   "source": [
    "name = \"Maaz\"\n",
    "print(name)"
   ]
  },
  {
   "cell_type": "markdown",
   "id": "b6e08e17-e751-440a-afe5-5353e1daf4ee",
   "metadata": {
    "jp-MarkdownHeadingCollapsed": true
   },
   "source": [
    "### 2. Write a code to find the length of the string \"Hello World\""
   ]
  },
  {
   "cell_type": "code",
   "execution_count": 14,
   "id": "f1a8fbd6-fedc-4a5f-a951-5ba58f66a9bc",
   "metadata": {},
   "outputs": [
    {
     "data": {
      "text/plain": [
       "11"
      ]
     },
     "execution_count": 14,
     "metadata": {},
     "output_type": "execute_result"
    }
   ],
   "source": [
    "text = \"Hello World\"\n",
    "len(text )\n"
   ]
  },
  {
   "cell_type": "markdown",
   "id": "fd073890-f513-4ae9-9da1-40d78fe30de0",
   "metadata": {
    "jp-MarkdownHeadingCollapsed": true
   },
   "source": [
    "### 3. Write a code to slice the first 3 characters from the string \"Python Programming"
   ]
  },
  {
   "cell_type": "code",
   "execution_count": 17,
   "id": "a401d504-6bc7-43f3-944e-35d6b612c692",
   "metadata": {},
   "outputs": [
    {
     "data": {
      "text/plain": [
       "'Pyt'"
      ]
     },
     "execution_count": 17,
     "metadata": {},
     "output_type": "execute_result"
    }
   ],
   "source": [
    "a = \"Python Programming\"\n",
    "a[:3]"
   ]
  },
  {
   "cell_type": "markdown",
   "id": "9e4bacd3-ee9d-4bee-a0ef-52fb37a4fd9b",
   "metadata": {
    "jp-MarkdownHeadingCollapsed": true
   },
   "source": [
    "### 4.Write a code to convert the string \"hello\" to uppercase"
   ]
  },
  {
   "cell_type": "code",
   "execution_count": 22,
   "id": "99e610dc-2d25-4f61-8800-9c8e41972af6",
   "metadata": {},
   "outputs": [
    {
     "data": {
      "text/plain": [
       "'HELLO'"
      ]
     },
     "execution_count": 22,
     "metadata": {},
     "output_type": "execute_result"
    }
   ],
   "source": [
    "h = \"hello\"\n",
    "h.upper()"
   ]
  },
  {
   "cell_type": "markdown",
   "id": "c40a006c-9b2e-4ddd-b85b-18cef8e05dcf",
   "metadata": {
    "jp-MarkdownHeadingCollapsed": true
   },
   "source": [
    "### 5.  Write a code to replace the word \"apple\" with \"orange\" in the string \"I like apple\""
   ]
  },
  {
   "cell_type": "code",
   "execution_count": 34,
   "id": "c1858d49-2b3d-4df6-aebc-b21dbeb65e54",
   "metadata": {},
   "outputs": [
    {
     "name": "stdout",
     "output_type": "stream",
     "text": [
      "I like Orange\n"
     ]
    }
   ],
   "source": [
    "a = \"I like apple\"\n",
    "b = a.replace(\"apple\",\"Orange\")\n",
    "print(b)"
   ]
  },
  {
   "cell_type": "markdown",
   "id": "e684850b-ec85-4a51-a84a-3b789aaf1366",
   "metadata": {
    "jp-MarkdownHeadingCollapsed": true
   },
   "source": [
    "### 6. Write a code to create a list with numbers 1 to 5 and print it"
   ]
  },
  {
   "cell_type": "code",
   "execution_count": 37,
   "id": "562638c0-370c-4d0d-8767-f414360dc033",
   "metadata": {},
   "outputs": [
    {
     "name": "stdout",
     "output_type": "stream",
     "text": [
      "[1, 2, 3, 4, 5]\n"
     ]
    }
   ],
   "source": [
    "nums = [1,2,3,4,5]\n",
    "print(nums)"
   ]
  },
  {
   "cell_type": "markdown",
   "id": "f626382c-5b06-414f-8fbc-feaf5026f247",
   "metadata": {
    "jp-MarkdownHeadingCollapsed": true
   },
   "source": [
    "### 7. Write a code to append the number 10 to the list [1, 2, 3, 4]"
   ]
  },
  {
   "cell_type": "code",
   "execution_count": 42,
   "id": "423ab9da-561a-4192-998a-b8418e000700",
   "metadata": {},
   "outputs": [
    {
     "data": {
      "text/plain": [
       "[1, 2, 3, 4, 10]"
      ]
     },
     "execution_count": 42,
     "metadata": {},
     "output_type": "execute_result"
    }
   ],
   "source": [
    "list = [1,2,3,4]\n",
    "list.append(10)\n",
    "list"
   ]
  },
  {
   "cell_type": "markdown",
   "id": "0bab9821-af35-4261-bb45-02ea89357eb0",
   "metadata": {
    "jp-MarkdownHeadingCollapsed": true
   },
   "source": [
    "### 8 Write a code to remove the number 3 from the list [1, 2, 3, 4, 5]"
   ]
  },
  {
   "cell_type": "code",
   "execution_count": 47,
   "id": "b571baff-ee4a-4928-9498-b207b4f09328",
   "metadata": {},
   "outputs": [
    {
     "data": {
      "text/plain": [
       "[1, 2, 4, 5]"
      ]
     },
     "execution_count": 47,
     "metadata": {},
     "output_type": "execute_result"
    }
   ],
   "source": [
    "list = [1,2,3,4,5]\n",
    "list.remove(3)\n",
    "list"
   ]
  },
  {
   "cell_type": "markdown",
   "id": "d30108e9-7233-4139-a366-e9a8ed8741eb",
   "metadata": {
    "jp-MarkdownHeadingCollapsed": true
   },
   "source": [
    "### 9. Write a code to access the second element in the list ['a', 'b', 'c', 'd']"
   ]
  },
  {
   "cell_type": "code",
   "execution_count": 50,
   "id": "010f5e01-945f-43cf-9aa8-487c26d11581",
   "metadata": {},
   "outputs": [
    {
     "data": {
      "text/plain": [
       "'b'"
      ]
     },
     "execution_count": 50,
     "metadata": {},
     "output_type": "execute_result"
    }
   ],
   "source": [
    "list = ['a','b','c','d']\n",
    "list[1]"
   ]
  },
  {
   "cell_type": "markdown",
   "id": "a1c68632-3a96-47de-9a24-d1f0ef9764f0",
   "metadata": {
    "jp-MarkdownHeadingCollapsed": true
   },
   "source": [
    "### 10. Write a code to reverse the list [10, 20, 30, 40, 50]."
   ]
  },
  {
   "cell_type": "code",
   "execution_count": 63,
   "id": "7e69ba63-10a9-4faa-9fc8-80bda5f5f395",
   "metadata": {},
   "outputs": [
    {
     "data": {
      "text/plain": [
       "[50, 40, 30, 20, 10]"
      ]
     },
     "execution_count": 63,
     "metadata": {},
     "output_type": "execute_result"
    }
   ],
   "source": [
    "list = [10, 20, 30, 40, 50]\n",
    "list.reverse()\n",
    "list"
   ]
  },
  {
   "cell_type": "markdown",
   "id": "b455e7ef-8057-4db4-a37a-42204070a1a4",
   "metadata": {
    "jp-MarkdownHeadingCollapsed": true
   },
   "source": [
    "### 11.  Write a code to create a tuple with the elements 100, 200, 300 and print it"
   ]
  },
  {
   "cell_type": "code",
   "execution_count": 68,
   "id": "6a10c946-c8fe-40c7-9bee-7d016079b294",
   "metadata": {},
   "outputs": [
    {
     "name": "stdout",
     "output_type": "stream",
     "text": [
      "(100, 200, 300)\n"
     ]
    }
   ],
   "source": [
    "t = (100,200,300)\n",
    "print(t)"
   ]
  },
  {
   "cell_type": "markdown",
   "id": "2f23c0b6-9f85-4b34-bfb1-e4ddb922cc53",
   "metadata": {
    "jp-MarkdownHeadingCollapsed": true
   },
   "source": [
    "### 12. Write a code to access the second-to-last element of the tuple ('red', 'green', 'blue', 'yellow')."
   ]
  },
  {
   "cell_type": "code",
   "execution_count": 75,
   "id": "23ce74a3-870c-4748-beb1-38eb2984524b",
   "metadata": {},
   "outputs": [
    {
     "data": {
      "text/plain": [
       "'blue'"
      ]
     },
     "execution_count": 75,
     "metadata": {},
     "output_type": "execute_result"
    }
   ],
   "source": [
    "t = ('red', 'green', 'blue', 'yellow')\n",
    "t[-2]"
   ]
  },
  {
   "cell_type": "markdown",
   "id": "f4907614-fdde-40a5-887d-f4eb72606fa3",
   "metadata": {
    "jp-MarkdownHeadingCollapsed": true
   },
   "source": [
    "### 13. Write a code to find the minimum number in the tuple (10, 20, 5, 15)."
   ]
  },
  {
   "cell_type": "code",
   "execution_count": 79,
   "id": "934f98e7-02e7-4a21-b41d-5c24bf90c3e9",
   "metadata": {},
   "outputs": [
    {
     "data": {
      "text/plain": [
       "5"
      ]
     },
     "execution_count": 79,
     "metadata": {},
     "output_type": "execute_result"
    }
   ],
   "source": [
    "t = (10, 20, 5, 15)\n",
    "min(t)"
   ]
  },
  {
   "cell_type": "markdown",
   "id": "fc23bd05-79a2-4c85-89e1-bdefe726ea8c",
   "metadata": {
    "jp-MarkdownHeadingCollapsed": true
   },
   "source": [
    "### 14. Write a code to find the index of the element \"cat\" in the tuple ('dog', 'cat', 'rabbit').\n"
   ]
  },
  {
   "cell_type": "code",
   "execution_count": 83,
   "id": "eaaf57da-409f-4f18-96b6-9bad271e53a7",
   "metadata": {},
   "outputs": [
    {
     "data": {
      "text/plain": [
       "1"
      ]
     },
     "execution_count": 83,
     "metadata": {},
     "output_type": "execute_result"
    }
   ],
   "source": [
    "animals = ('dog', 'cat', 'rabbit')\n",
    "animals.index('cat')"
   ]
  },
  {
   "cell_type": "markdown",
   "id": "03c423ef-db8f-44d9-bd89-610105e95b48",
   "metadata": {
    "jp-MarkdownHeadingCollapsed": true
   },
   "source": [
    "### 15. Write a code to create a tuple containing three different fruits and check if \"kiwi\" is in it."
   ]
  },
  {
   "cell_type": "code",
   "execution_count": 2,
   "id": "f2fe7df8-14c8-4757-a843-9eacbde200f0",
   "metadata": {},
   "outputs": [
    {
     "data": {
      "text/plain": [
       "True"
      ]
     },
     "execution_count": 2,
     "metadata": {},
     "output_type": "execute_result"
    }
   ],
   "source": [
    "fruits = ('Apple','kiwi','orange')\n",
    "'kiwi' in fruits "
   ]
  },
  {
   "cell_type": "markdown",
   "id": "d20071d2-68e5-4bb1-b44a-fce295af5314",
   "metadata": {
    "jp-MarkdownHeadingCollapsed": true
   },
   "source": [
    "### 16. Write a code to create a set with the elements 'a', 'b', 'c' and print it."
   ]
  },
  {
   "cell_type": "code",
   "execution_count": 15,
   "id": "5eed6aaa-4c7b-4891-99f0-31168b62bc3c",
   "metadata": {},
   "outputs": [
    {
     "name": "stdout",
     "output_type": "stream",
     "text": [
      "{'b', 'a', 'c'}\n"
     ]
    }
   ],
   "source": [
    "s = {'a','b','c'}\n",
    "print(s)"
   ]
  },
  {
   "cell_type": "markdown",
   "id": "3e5c9e39-3a22-474f-83cf-e8f541826397",
   "metadata": {
    "jp-MarkdownHeadingCollapsed": true
   },
   "source": [
    "### 17. Write a code to clear all elements from the set {1, 2, 3, 4, 5}."
   ]
  },
  {
   "cell_type": "code",
   "execution_count": 30,
   "id": "8dcf66a3-1103-4e03-966e-6ed6592ef2fe",
   "metadata": {},
   "outputs": [
    {
     "data": {
      "text/plain": [
       "set()"
      ]
     },
     "execution_count": 30,
     "metadata": {},
     "output_type": "execute_result"
    }
   ],
   "source": [
    "s = {1, 2, 3, 4, 5}\n",
    "s.clear()\n",
    "s"
   ]
  },
  {
   "cell_type": "markdown",
   "id": "916307f3-51b7-48b7-ad80-ff411abdaeef",
   "metadata": {
    "jp-MarkdownHeadingCollapsed": true
   },
   "source": [
    "### 18. Write a code to remove the element 4 from the set {1, 2, 3, 4}."
   ]
  },
  {
   "cell_type": "code",
   "execution_count": 33,
   "id": "75418fec-dfec-4be8-af5d-f3284941af1a",
   "metadata": {},
   "outputs": [
    {
     "data": {
      "text/plain": [
       "{1, 2, 3}"
      ]
     },
     "execution_count": 33,
     "metadata": {},
     "output_type": "execute_result"
    }
   ],
   "source": [
    "s = {1, 2, 3, 4}\n",
    "s.remove(4)\n",
    "s"
   ]
  },
  {
   "cell_type": "markdown",
   "id": "6246c046-d443-49d4-8fff-c750a15dfbec",
   "metadata": {
    "jp-MarkdownHeadingCollapsed": true
   },
   "source": [
    "### 19. Write a code to find the union of two sets {1, 2, 3} and {3, 4, 5}"
   ]
  },
  {
   "cell_type": "code",
   "execution_count": 37,
   "id": "ef7d2fcc-587d-40d1-9c78-15600bcfba38",
   "metadata": {},
   "outputs": [
    {
     "data": {
      "text/plain": [
       "{1, 2, 3, 4, 5}"
      ]
     },
     "execution_count": 37,
     "metadata": {},
     "output_type": "execute_result"
    }
   ],
   "source": [
    "set1 = {1,2,3}\n",
    "set2 = {3,4,5}\n",
    "set1.union(set2)"
   ]
  },
  {
   "cell_type": "markdown",
   "id": "aa6d5ea5-cbf8-48c9-a5c2-93580dd4ebe2",
   "metadata": {
    "jp-MarkdownHeadingCollapsed": true
   },
   "source": [
    "### 20. Write a code to find the intersection of two sets {1, 2, 3} and {2, 3, 4}"
   ]
  },
  {
   "cell_type": "code",
   "execution_count": 40,
   "id": "a423ca10-717d-4d9e-9fb0-48ac5ca13622",
   "metadata": {},
   "outputs": [
    {
     "data": {
      "text/plain": [
       "{2, 3}"
      ]
     },
     "execution_count": 40,
     "metadata": {},
     "output_type": "execute_result"
    }
   ],
   "source": [
    "set1 = {1,2,3}\n",
    "set2 = {2,3,4}\n",
    "set1.intersection(set2)"
   ]
  },
  {
   "cell_type": "markdown",
   "id": "d093d7a0-2653-4c22-b5a1-a4de3b75dec8",
   "metadata": {
    "jp-MarkdownHeadingCollapsed": true
   },
   "source": [
    "### 21. Write a code to create a dictionary with the keys \"name\", \"age\", and \"city\", and print it."
   ]
  },
  {
   "cell_type": "code",
   "execution_count": 47,
   "id": "91289b55-eba1-4aa7-9f3f-b2ac3adeef67",
   "metadata": {},
   "outputs": [
    {
     "name": "stdout",
     "output_type": "stream",
     "text": [
      "{'name': 'Maaz', 'age': '23', 'city': 'nanded'}\n"
     ]
    }
   ],
   "source": [
    "dict = {'name':'Maaz','age':'23','city':'nanded'}\n",
    "print(dict)"
   ]
  },
  {
   "cell_type": "markdown",
   "id": "bd84ffdc-c189-4e32-bc95-f076a9c3472e",
   "metadata": {
    "jp-MarkdownHeadingCollapsed": true
   },
   "source": [
    "### 22. Write a code to add a new key-value pair \"country\": \"USA\" to the dictionary {'name': 'John', 'age': 25}."
   ]
  },
  {
   "cell_type": "code",
   "execution_count": 54,
   "id": "de78930b-5667-4dad-aed5-ff0a1937610d",
   "metadata": {},
   "outputs": [
    {
     "data": {
      "text/plain": [
       "{'name': 'John', 'age': 25, 'country': 'USA'}"
      ]
     },
     "execution_count": 54,
     "metadata": {},
     "output_type": "execute_result"
    }
   ],
   "source": [
    "info = {'name': 'John', 'age': 25}\n",
    "info['country'] = 'USA'\n",
    "info"
   ]
  },
  {
   "cell_type": "markdown",
   "id": "fd01d7ab-ad25-4d62-a2a5-8ea363bd51b8",
   "metadata": {
    "jp-MarkdownHeadingCollapsed": true
   },
   "source": [
    "### 23. Write a code to access the value associated with the key \"name\" in the dictionary {'name': 'Alice', 'age': 30}"
   ]
  },
  {
   "cell_type": "code",
   "execution_count": 57,
   "id": "44fadf07-c83e-4a13-b1e4-c6b799ef5f9f",
   "metadata": {},
   "outputs": [
    {
     "data": {
      "text/plain": [
       "'Alice'"
      ]
     },
     "execution_count": 57,
     "metadata": {},
     "output_type": "execute_result"
    }
   ],
   "source": [
    "info = {'name': 'Alice', 'age': 30}\n",
    "info['name']"
   ]
  },
  {
   "cell_type": "markdown",
   "id": "a74fb6d4-7e90-4227-bf86-9e7be7e4814b",
   "metadata": {
    "jp-MarkdownHeadingCollapsed": true
   },
   "source": [
    "### 24. Write a code to remove the key \"age\" from the dictionary {'name': 'Bob', 'age': 22, 'city': 'New York'}."
   ]
  },
  {
   "cell_type": "code",
   "execution_count": 62,
   "id": "39c74572-9b6d-4a60-89fc-bb7c765b5428",
   "metadata": {},
   "outputs": [
    {
     "data": {
      "text/plain": [
       "{'name': 'Bob', 'city': 'New York'}"
      ]
     },
     "execution_count": 62,
     "metadata": {},
     "output_type": "execute_result"
    }
   ],
   "source": [
    "dict = {'name': 'Bob', 'age': 22, 'city': 'New York'}\n",
    "del dict['age']\n",
    "dict"
   ]
  },
  {
   "cell_type": "markdown",
   "id": "f0fc6559-ff50-4aff-8396-34b250527f9e",
   "metadata": {
    "jp-MarkdownHeadingCollapsed": true
   },
   "source": [
    "### 25. Write a code to check if the key \"city\" exists in the dictionary {'name': 'Alice', 'city': 'Paris'}."
   ]
  },
  {
   "cell_type": "code",
   "execution_count": 65,
   "id": "d2beae30-081f-4d47-8d97-8a5f8f78a7ea",
   "metadata": {},
   "outputs": [
    {
     "data": {
      "text/plain": [
       "True"
      ]
     },
     "execution_count": 65,
     "metadata": {},
     "output_type": "execute_result"
    }
   ],
   "source": [
    "data = {'name': 'Alice', 'city': 'Paris'}\n",
    "'city' in data"
   ]
  },
  {
   "cell_type": "markdown",
   "id": "528baf4f-7471-4ffc-9e87-ca5f68a1414d",
   "metadata": {
    "jp-MarkdownHeadingCollapsed": true
   },
   "source": [
    "### 26. Write a code to create a list, a tuple, and a dictionary, and print them all"
   ]
  },
  {
   "cell_type": "code",
   "execution_count": 19,
   "id": "960eb94c-ff21-45d5-920e-ce1743278541",
   "metadata": {},
   "outputs": [
    {
     "name": "stdout",
     "output_type": "stream",
     "text": [
      "[1, 567, 'race', 4.6, True] ('one', 'two', 23, 4.67) {1: 'Green', 2: 'Yellow', 3: 'Red'}\n"
     ]
    }
   ],
   "source": [
    "l = [1,567,'race',4.6,True]\n",
    "t = ('one','two',23,4.67)\n",
    "d = {1:'Green',2:'Yellow',3:'Red'}\n",
    "\n",
    "print(l,t,d)"
   ]
  },
  {
   "cell_type": "markdown",
   "id": "6d83233d-b773-45d4-97bb-0581af50f61f",
   "metadata": {
    "jp-MarkdownHeadingCollapsed": true
   },
   "source": [
    "### 27. Write a code to create a list of 5 random numbers between 1 and 100, sort it in ascending order, and print the  result.(replaced)"
   ]
  },
  {
   "cell_type": "code",
   "execution_count": 25,
   "id": "98ba39e5-83e3-41e2-9b7e-2b05dd2da5e6",
   "metadata": {},
   "outputs": [
    {
     "data": {
      "text/plain": [
       "[1, 3, 7, 10, 54]"
      ]
     },
     "execution_count": 25,
     "metadata": {},
     "output_type": "execute_result"
    }
   ],
   "source": [
    "n = [1,54,3,7,10]\n",
    "sorted(n)"
   ]
  },
  {
   "cell_type": "markdown",
   "id": "2ab70876-9208-41a1-a90c-0d48ae6dd52c",
   "metadata": {
    "jp-MarkdownHeadingCollapsed": true
   },
   "source": [
    "### 28. Write a code to create a list with strings and print the element at the third index"
   ]
  },
  {
   "cell_type": "code",
   "execution_count": 28,
   "id": "1a8cb3e9-939f-4e26-ae14-27e1b39ec621",
   "metadata": {},
   "outputs": [
    {
     "data": {
      "text/plain": [
       "'texts'"
      ]
     },
     "execution_count": 28,
     "metadata": {},
     "output_type": "execute_result"
    }
   ],
   "source": [
    "bin = ['files', 'docs','games','texts']\n",
    "bin[3]"
   ]
  },
  {
   "cell_type": "markdown",
   "id": "0bcc022c-7b56-4856-990f-8901b3055a9c",
   "metadata": {
    "jp-MarkdownHeadingCollapsed": true
   },
   "source": [
    "### 29. Write a code to combine two dictionaries into one and print the result"
   ]
  },
  {
   "cell_type": "code",
   "execution_count": 41,
   "id": "d38c53fd-f751-4142-812f-b7f9f04dc4b8",
   "metadata": {},
   "outputs": [
    {
     "data": {
      "text/plain": [
       "{'name': 'nisha', 'age': 24, 'speciality': 'Smile', 'weakness': 'family'}"
      ]
     },
     "execution_count": 41,
     "metadata": {},
     "output_type": "execute_result"
    }
   ],
   "source": [
    "d1 = {'name':'nisha','age':24}\n",
    "d2 = {'speciality':'Smile','weakness':'family'}\n",
    "d3 = d1\n",
    "d3.update(d2)\n",
    "d3"
   ]
  },
  {
   "cell_type": "markdown",
   "id": "cff2adc9-92aa-424c-a6a4-6d8aa653ad5e",
   "metadata": {
    "jp-MarkdownHeadingCollapsed": true
   },
   "source": [
    "### 30. Write a code to convert a list of strings into a set"
   ]
  },
  {
   "cell_type": "code",
   "execution_count": 46,
   "id": "2d883fbc-7eb9-4e30-9e75-0bfe4121f09e",
   "metadata": {},
   "outputs": [
    {
     "data": {
      "text/plain": [
       "{'Buggati', 'Mclaren', 'lamborghini', 'porche'}"
      ]
     },
     "execution_count": 46,
     "metadata": {},
     "output_type": "execute_result"
    }
   ],
   "source": [
    "string_list = ['Buggati','Mclaren','lamborghini','porche','Buggati']\n",
    "set(string_list)"
   ]
  },
  {
   "cell_type": "code",
   "execution_count": null,
   "id": "53786702-c436-406f-8137-c4f8dec33b85",
   "metadata": {},
   "outputs": [],
   "source": []
  }
 ],
 "metadata": {
  "kernelspec": {
   "display_name": "Python 3 (ipykernel)",
   "language": "python",
   "name": "python3"
  },
  "language_info": {
   "codemirror_mode": {
    "name": "ipython",
    "version": 3
   },
   "file_extension": ".py",
   "mimetype": "text/x-python",
   "name": "python",
   "nbconvert_exporter": "python",
   "pygments_lexer": "ipython3",
   "version": "3.12.4"
  }
 },
 "nbformat": 4,
 "nbformat_minor": 5
}
